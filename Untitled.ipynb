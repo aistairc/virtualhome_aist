{
 "cells": [
  {
   "cell_type": "code",
   "execution_count": 1,
   "id": "ac47a8c0",
   "metadata": {},
   "outputs": [
    {
     "name": "stdout",
     "output_type": "stream",
     "text": [
      "1635387447.159302\n"
     ]
    }
   ],
   "source": [
    "import time\n",
    "ut = time.time()\n",
    "print(ut)"
   ]
  },
  {
   "cell_type": "code",
   "execution_count": 3,
   "id": "2799309e",
   "metadata": {},
   "outputs": [
    {
     "name": "stdout",
     "output_type": "stream",
     "text": [
      "5 6\n"
     ]
    }
   ],
   "source": [
    "def func(x,y):\n",
    "    return x+y, x*y\n",
    "result = func(2,3)\n",
    "plus, multi = result\n",
    "print(plus, multi)"
   ]
  },
  {
   "cell_type": "code",
   "execution_count": 4,
   "id": "11e15082",
   "metadata": {},
   "outputs": [
    {
     "name": "stdout",
     "output_type": "stream",
     "text": [
      "True\n"
     ]
    }
   ],
   "source": [
    "success = ( 5 == 5)\n",
    "print(success)"
   ]
  },
  {
   "cell_type": "code",
   "execution_count": 3,
   "id": "d84e47a7",
   "metadata": {},
   "outputs": [
    {
     "name": "stdout",
     "output_type": "stream",
     "text": [
      "カ\n",
      "ミ\n",
      "ュ\n",
      "ュ\n"
     ]
    }
   ],
   "source": [
    "st = \"カミュ\"\n",
    "print(st[0])\n",
    "print(st[1])\n",
    "print(st[2])\n",
    "print(st[-1])"
   ]
  },
  {
   "cell_type": "code",
   "execution_count": 5,
   "id": "726f511f",
   "metadata": {},
   "outputs": [
    {
     "name": "stdout",
     "output_type": "stream",
     "text": [
      "入力1手紙\n",
      "入力2友人\n",
      "私は昨日手紙を書いて、友人に送った！\n"
     ]
    }
   ],
   "source": [
    "st1 = input(\"入力1\")\n",
    "st2 = input(\"入力2\")\n",
    "st3 = \"私は昨日{}を書いて、{}に送った！\".format(st1, st2)\n",
    "print(st3)"
   ]
  },
  {
   "cell_type": "code",
   "execution_count": 6,
   "id": "4d8830f2",
   "metadata": {},
   "outputs": [
    {
     "name": "stdout",
     "output_type": "stream",
     "text": [
      "Aldous huxley was born in 1894\n"
     ]
    }
   ],
   "source": [
    "print(\"aldous Huxley was born in 1894\".capitalize())"
   ]
  },
  {
   "cell_type": "code",
   "execution_count": 8,
   "id": "d78e4087",
   "metadata": {},
   "outputs": [
    {
     "name": "stdout",
     "output_type": "stream",
     "text": [
      "['どこで？', '誰が？', 'いつ？']\n"
     ]
    }
   ],
   "source": [
    "print(\"どこで？　誰が？　いつ？\".split(\"　\"))"
   ]
  },
  {
   "cell_type": "code",
   "execution_count": 14,
   "id": "5852faf5",
   "metadata": {},
   "outputs": [
    {
     "name": "stdout",
     "output_type": "stream",
     "text": [
      "The fox jumped over the fence.\n"
     ]
    }
   ],
   "source": [
    "stlist = [\"The\", \"fox\", \"jumped\", \"over\", \"the\", \"fence\", \".\"]\n",
    "st = \" \".join(stlist)\n",
    "st = st.replace(\" .\", \".\")\n",
    "print(st)\n"
   ]
  },
  {
   "cell_type": "code",
   "execution_count": 16,
   "id": "4b4b4c10",
   "metadata": {},
   "outputs": [
    {
     "name": "stdout",
     "output_type": "stream",
     "text": [
      "A$creaming come$ acro$$ the $ky\n"
     ]
    }
   ],
   "source": [
    "print(\"Ascreaming comes across the sky\".replace(\"s\", \"$\"))"
   ]
  },
  {
   "cell_type": "code",
   "execution_count": 17,
   "id": "46158b9d",
   "metadata": {},
   "outputs": [
    {
     "data": {
      "text/plain": [
       "2"
      ]
     },
     "execution_count": 17,
     "metadata": {},
     "output_type": "execute_result"
    }
   ],
   "source": [
    "\"Hemmingway\".index(\"m\")"
   ]
  },
  {
   "cell_type": "code",
   "execution_count": 18,
   "id": "ddf0b495",
   "metadata": {},
   "outputs": [
    {
     "data": {
      "text/plain": [
       "'I like \"this\".'"
      ]
     },
     "execution_count": 18,
     "metadata": {},
     "output_type": "execute_result"
    }
   ],
   "source": [
    "\"I like \\\"this\\\".\""
   ]
  },
  {
   "cell_type": "code",
   "execution_count": 19,
   "id": "c99f955b",
   "metadata": {},
   "outputs": [
    {
     "data": {
      "text/plain": [
       "'three three three'"
      ]
     },
     "execution_count": 19,
     "metadata": {},
     "output_type": "execute_result"
    }
   ],
   "source": [
    "\"three \" + \"three \" + \"three\""
   ]
  },
  {
   "cell_type": "code",
   "execution_count": 20,
   "id": "580e4b24",
   "metadata": {},
   "outputs": [
    {
     "data": {
      "text/plain": [
       "'threethreethree'"
      ]
     },
     "execution_count": 20,
     "metadata": {},
     "output_type": "execute_result"
    }
   ],
   "source": [
    "\"three\"*3"
   ]
  },
  {
   "cell_type": "code",
   "execution_count": 22,
   "id": "fd7f3588",
   "metadata": {},
   "outputs": [
    {
     "name": "stdout",
     "output_type": "stream",
     "text": [
      "three three three\n"
     ]
    }
   ],
   "source": [
    "st = \"three\"*3\n",
    "st= st.replace(\"ee\", \"ee \")\n",
    "st = st.strip()\n",
    "print(st)"
   ]
  },
  {
   "cell_type": "code",
   "execution_count": 23,
   "id": "cff00507",
   "metadata": {},
   "outputs": [
    {
     "name": "stdout",
     "output_type": "stream",
     "text": [
      "I like \"this\".\n"
     ]
    }
   ],
   "source": [
    "print(\"I like \\\"this\\\".\")"
   ]
  },
  {
   "cell_type": "code",
   "execution_count": 24,
   "id": "42f23b34",
   "metadata": {},
   "outputs": [
    {
     "data": {
      "text/plain": [
       "'計がどれも十三時を打っていた'"
      ]
     },
     "execution_count": 24,
     "metadata": {},
     "output_type": "execute_result"
    }
   ],
   "source": [
    "st = \"4月の晴れた寒い日で、時計がどれも十三時を打っていた\"\n",
    "st[12:]"
   ]
  },
  {
   "cell_type": "code",
   "execution_count": 25,
   "id": "6d611343",
   "metadata": {},
   "outputs": [
    {
     "name": "stdout",
     "output_type": "stream",
     "text": [
      "T\n",
      "e\n",
      "d\n"
     ]
    }
   ],
   "source": [
    "name = \"Ted\"\n",
    "for character in name:\n",
    "    print(character)"
   ]
  },
  {
   "cell_type": "code",
   "execution_count": 26,
   "id": "08d07672",
   "metadata": {},
   "outputs": [
    {
     "name": "stdout",
     "output_type": "stream",
     "text": [
      "GOT\n",
      "Narcos\n",
      "Vice\n"
     ]
    }
   ],
   "source": [
    "shows = [\"GOT\", \"Narcos\", \"Vice\"]\n",
    "for show in shows:\n",
    "    print(show)"
   ]
  },
  {
   "cell_type": "code",
   "execution_count": 27,
   "id": "245f415b",
   "metadata": {},
   "outputs": [
    {
     "name": "stdout",
     "output_type": "stream",
     "text": [
      "A. Development\n",
      "Frieds\n",
      "Always SUnny\n"
     ]
    }
   ],
   "source": [
    "coms = (\"A. Development\", \"Frieds\", \"Always SUnny\")\n",
    "for show in coms:\n",
    "    print(show)"
   ]
  },
  {
   "cell_type": "code",
   "execution_count": null,
   "id": "a7688238",
   "metadata": {},
   "outputs": [],
   "source": []
  }
 ],
 "metadata": {
  "kernelspec": {
   "display_name": "Python 3 (ipykernel)",
   "language": "python",
   "name": "python3"
  },
  "language_info": {
   "codemirror_mode": {
    "name": "ipython",
    "version": 3
   },
   "file_extension": ".py",
   "mimetype": "text/x-python",
   "name": "python",
   "nbconvert_exporter": "python",
   "pygments_lexer": "ipython3",
   "version": "3.7.4"
  }
 },
 "nbformat": 4,
 "nbformat_minor": 5
}
