{
 "cells": [
  {
   "cell_type": "code",
   "execution_count": 9,
   "metadata": {},
   "outputs": [],
   "source": [
    "import sys\n",
    "import os\n",
    "import re\n",
    "import json\n",
    "import glob\n",
    "import copy\n",
    "import time\n",
    "import random\n",
    "import shutil\n",
    "from pathlib import Path"
   ]
  },
  {
   "cell_type": "code",
   "execution_count": 10,
   "metadata": {},
   "outputs": [],
   "source": [
    "update_name = 'Turn_on_light'\n",
    "activity_name = 'Turn on light'\n",
    "for x in range(1,8):\n",
    "    scene_path = \"../simulation/Output/Turn on light/TurnOnLight/scene\"+str(x)+\"/\"\n",
    "    for script_index in range(1,5):\n",
    "        graphstate_detail_path = scene_path+'graph states/'+activity_name+'_'+str(script_index-1)+'/'\n",
    "        if os.path.exists(graphstate_detail_path) == True:\n",
    "            for fn in os.listdir(graphstate_detail_path):\n",
    "                if fn == 'executed-program.txt':\n",
    "                    with open(graphstate_detail_path+fn, 'r') as rf:\n",
    "                        new_text = rf.readlines()\n",
    "                        new_text[0] = update_name+str(script_index)+'\\n'\n",
    "                    with open(graphstate_detail_path+fn, 'w') as wf:\n",
    "                        wf.writelines(new_text)\n",
    "                if fn == 'program-description.txt':\n",
    "                    with open(graphstate_detail_path+fn, 'r') as rf:\n",
    "                        new_text = rf.readlines()\n",
    "                        new_text[0] = update_name+str(script_index)+'\\n'\n",
    "                    with open(graphstate_detail_path+fn, 'w') as wf:\n",
    "                        wf.writelines(new_text)\n",
    "                if fn.startswith('ftaa_'):\n",
    "                    os.rename(os.path.join(graphstate_detail_path, fn), os.path.join(graphstate_detail_path, 'ftaa_'+update_name+str(script_index)+fn[-4:]))\n",
    "        graphstate_path = scene_path+'graph states/'\n",
    "        if os.path.exists(graphstate_path) == True:\n",
    "            for fn in os.listdir(graphstate_path):\n",
    "                if fn.startswith(activity_name+'_'+str(script_index-1)):\n",
    "                    os.rename(os.path.join(graphstate_path, fn), os.path.join(graphstate_path, update_name+str(script_index)))\n",
    "        image_detail_path = scene_path+activity_name+'_'+str(script_index-1)+'/0/'\n",
    "        if os.path.exists(image_detail_path) == True:\n",
    "            for fn in os.listdir(image_detail_path):\n",
    "                if fn.startswith('cd_'):\n",
    "                    os.rename(os.path.join(image_detail_path, fn), os.path.join(image_detail_path, 'cd_'+update_name+str(script_index)+fn[-4:]))\n",
    "                if fn.startswith('ftaa_'):\n",
    "                    os.rename(os.path.join(image_detail_path, fn), os.path.join(image_detail_path, 'ftaa_'+update_name+str(script_index)+fn[-4:]))\n",
    "                if fn.startswith('pd_'):\n",
    "                    os.rename(os.path.join(image_detail_path, fn), os.path.join(image_detail_path, 'pd_'+update_name+str(script_index)+fn[-4:]))\n",
    "                if fn.startswith('Turn on'):\n",
    "                    os.rename(os.path.join(image_detail_path, fn), os.path.join(image_detail_path, update_name+fn[-1:]))\n",
    "        if os.path.exists(scene_path) == True:\n",
    "            for fn in os.listdir(scene_path):\n",
    "                if fn.startswith(activity_name+'_'+str(script_index-1)):\n",
    "                    os.rename(os.path.join(scene_path, fn), os.path.join(scene_path, update_name+str(script_index)))"
   ]
  },
  {
   "cell_type": "code",
   "execution_count": 11,
   "metadata": {},
   "outputs": [],
   "source": [
    "for script_index in range(1,5):\n",
    "    script_path = \"../simulation/Output/Turn on light/TurnOnLight\"+str(script_index-1)+\"_Scripts/\"\n",
    "    for x in range(1,8):\n",
    "        scene_path = script_path+'scene'+str(x)+'/'\n",
    "        if os.path.exists(scene_path) == True:\n",
    "            for fn in os.listdir(scene_path):\n",
    "                if fn.startswith(activity_name):\n",
    "                    with open(scene_path+fn, 'r') as rf:\n",
    "                        new_text = rf.readlines()\n",
    "                        new_text[0] = update_name+str(script_index)+'\\n'\n",
    "                    with open(scene_path+fn, 'w') as wf:\n",
    "                        wf.writelines(new_text)\n",
    "                    os.rename(os.path.join(scene_path, fn), os.path.join(scene_path, update_name+str(script_index)+fn[-4:]))"
   ]
  },
  {
   "cell_type": "code",
   "execution_count": null,
   "metadata": {},
   "outputs": [],
   "source": []
  }
 ],
 "metadata": {
  "kernelspec": {
   "display_name": "Python 3",
   "language": "python",
   "name": "python3"
  },
  "language_info": {
   "codemirror_mode": {
    "name": "ipython",
    "version": 3
   },
   "file_extension": ".py",
   "mimetype": "text/x-python",
   "name": "python",
   "nbconvert_exporter": "python",
   "pygments_lexer": "ipython3",
   "version": "3.8.3"
  }
 },
 "nbformat": 4,
 "nbformat_minor": 4
}
