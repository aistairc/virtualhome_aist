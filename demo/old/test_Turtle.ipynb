{
 "cells": [
  {
   "cell_type": "code",
   "execution_count": 1,
   "id": "2dc5edc4",
   "metadata": {},
   "outputs": [],
   "source": [
    "from turtle import *\n",
    "forward(100)\n",
    "left(90)\n",
    "forward(100)\n",
    "left(90)"
   ]
  },
  {
   "cell_type": "code",
   "execution_count": 2,
   "id": "7260ebe9",
   "metadata": {},
   "outputs": [],
   "source": [
    "forward(100)"
   ]
  },
  {
   "cell_type": "code",
   "execution_count": 3,
   "id": "2da353dd",
   "metadata": {},
   "outputs": [],
   "source": [
    "left(90)"
   ]
  },
  {
   "cell_type": "code",
   "execution_count": 4,
   "id": "fddbb30f",
   "metadata": {},
   "outputs": [
    {
     "ename": "NameError",
     "evalue": "name 'forawrd' is not defined",
     "output_type": "error",
     "traceback": [
      "\u001b[1;31m---------------------------------------------------------------------------\u001b[0m",
      "\u001b[1;31mNameError\u001b[0m                                 Traceback (most recent call last)",
      "\u001b[1;32mC:\\Users\\YUUJI_~1\\AppData\\Local\\Temp/ipykernel_16128/3616225709.py\u001b[0m in \u001b[0;36m<module>\u001b[1;34m\u001b[0m\n\u001b[1;32m----> 1\u001b[1;33m \u001b[0mforawrd\u001b[0m\u001b[1;33m(\u001b[0m\u001b[1;36m100\u001b[0m\u001b[1;33m)\u001b[0m\u001b[1;33m\u001b[0m\u001b[1;33m\u001b[0m\u001b[0m\n\u001b[0m",
      "\u001b[1;31mNameError\u001b[0m: name 'forawrd' is not defined"
     ]
    }
   ],
   "source": [
    "forawrd(100)"
   ]
  },
  {
   "cell_type": "code",
   "execution_count": 5,
   "id": "069eb433",
   "metadata": {},
   "outputs": [],
   "source": [
    "forward(100)\n",
    "done()\n"
   ]
  },
  {
   "cell_type": "code",
   "execution_count": null,
   "id": "092c9043",
   "metadata": {},
   "outputs": [],
   "source": [
    "int_a = int(input(\"?\"))\n",
    "for i in range(int_a):\n",
    "    forward(350)\n",
    "    right(360/int_a)\n",
    "done()"
   ]
  },
  {
   "cell_type": "code",
   "execution_count": 4,
   "id": "faaa218e",
   "metadata": {},
   "outputs": [
    {
     "name": "stdout",
     "output_type": "stream",
     "text": [
      "?7\n"
     ]
    }
   ],
   "source": [
    "from turtle import *\n",
    "int_a = int(input(\"?\"))\n",
    "for i in range(int_a):\n",
    "    forward(450)\n",
    "    right(180-180/int_a)"
   ]
  },
  {
   "cell_type": "code",
   "execution_count": 9,
   "id": "08bba101",
   "metadata": {},
   "outputs": [],
   "source": [
    "#.再帰的に木を描く\n",
    "def tree(n):\n",
    "    #.引数が1 以下なら5 歩すすむ\n",
    "    if n<=1:\n",
    "        forward(5)\n",
    "    else:\n",
    "        #.引数は1 より大きいとき\n",
    "        #.引数の値に応じて前進(幹)\n",
    "        forward(5*(1.1**n))\n",
    "        #.今の位置と向きを記録\n",
    "        xx = pos()\n",
    "        h = heading()\n",
    "        #.左へ.30.度回転\n",
    "        left(30)\n",
    "        #.大きさ.n-2.で木を描く(左の枝)\n",
    "        tree(n-2)\n",
    "        #.ペンを挙げて軌跡を残さない\n",
    "        up()\n",
    "        #.先に記録した位置(幹の先端)に戻る\n",
    "        setpos(xx)\n",
    "        setheading(h)\n",
    "        #.ペンを降ろす\n",
    "        down()\n",
    "        #.右へ15 度\n",
    "        right(15)\n",
    "        #.大きさ.n-1.で木を描く(右の枝)\n",
    "        tree(n-1)\n",
    "        #.ペンを上げてもどる\n",
    "        up()\n",
    "        setpos(xx)\n",
    "        setheading(h)\n",
    "        #.ペンを降ろす\n",
    "        down()\n",
    "    \n",
    "#.時間がかかるので最も早い描画\n",
    "#speed(0)\n",
    "#.大きさ12.の木を描く\n",
    "tree(12)"
   ]
  },
  {
   "cell_type": "code",
   "execution_count": null,
   "id": "a996cb81",
   "metadata": {},
   "outputs": [],
   "source": []
  }
 ],
 "metadata": {
  "kernelspec": {
   "display_name": "Python 3 (ipykernel)",
   "language": "python",
   "name": "python3"
  },
  "language_info": {
   "codemirror_mode": {
    "name": "ipython",
    "version": 3
   },
   "file_extension": ".py",
   "mimetype": "text/x-python",
   "name": "python",
   "nbconvert_exporter": "python",
   "pygments_lexer": "ipython3",
   "version": "3.7.4"
  }
 },
 "nbformat": 4,
 "nbformat_minor": 5
}
