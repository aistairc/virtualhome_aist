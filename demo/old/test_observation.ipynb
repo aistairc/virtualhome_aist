{
 "cells": [
  {
   "cell_type": "code",
   "execution_count": 1,
   "id": "e93b3f47",
   "metadata": {},
   "outputs": [
    {
     "name": "stdout",
     "output_type": "stream",
     "text": [
      "Starting scene...\n",
      "True\n",
      "Check objects you can see ...\n",
      "(True, {'11': 'bathroom', '31': 'rug', '52': 'door', '113': 'coffeetable', '122': 'closetdrawer', '125': 'closetdrawer', '126': 'closetdrawer'})\n"
     ]
    }
   ],
   "source": [
    "import sys\n",
    "sys.path.append('../simulation/')\n",
    "from unity_simulator.comm_unity import UnityCommunication\n",
    "comm = UnityCommunication()\n",
    "print('Starting scene...')\n",
    "message = comm.reset()\n",
    "print(message)\n",
    "#comm.add_character('Chars/Female1')\n",
    "print('Check objects you can see ...')\n",
    "#s = comm.render_script(script, recording=True, find_solution=True, frame_rate=15)\n",
    "s = comm.get_visible_objects(1)\n",
    "print(s)"
   ]
  },
  {
   "cell_type": "code",
   "execution_count": null,
   "id": "8e4c07e1",
   "metadata": {},
   "outputs": [],
   "source": []
  }
 ],
 "metadata": {
  "kernelspec": {
   "display_name": "Python 3 (ipykernel)",
   "language": "python",
   "name": "python3"
  },
  "language_info": {
   "codemirror_mode": {
    "name": "ipython",
    "version": 3
   },
   "file_extension": ".py",
   "mimetype": "text/x-python",
   "name": "python",
   "nbconvert_exporter": "python",
   "pygments_lexer": "ipython3",
   "version": "3.7.4"
  }
 },
 "nbformat": 4,
 "nbformat_minor": 5
}
