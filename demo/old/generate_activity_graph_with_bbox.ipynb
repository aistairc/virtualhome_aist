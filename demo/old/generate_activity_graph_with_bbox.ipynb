{
 "cells": [
  {
   "cell_type": "markdown",
   "metadata": {},
   "source": [
    "This is a script for simulating arbitrary activity and export its results."
   ]
  },
  {
   "cell_type": "code",
   "execution_count": 421,
   "metadata": {},
   "outputs": [],
   "source": [
    "%matplotlib notebook\n",
    "import IPython.display\n",
    "from utils_demo import *\n",
    "from sys import platform\n",
    "import sys\n",
    "from PIL import Image\n",
    "import matplotlib.pyplot as plt\n",
    "import json\n",
    "import rdflib\n",
    "import glob\n",
    "import os\n",
    "import re\n",
    "import copy\n",
    "import time\n",
    "\n",
    "sys.path.append('../simulation')\n",
    "sys.path.append('../dataset_utils/')\n",
    "\n",
    "import numpy as np\n",
    "import random\n",
    "import cv2\n",
    "import add_preconds\n",
    "import evolving_graph.check_programs as check_programs\n",
    "import evolving_graph.utils as utils\n",
    "\n",
    "from unity_simulator.comm_unity import UnityCommunication"
   ]
  },
  {
   "cell_type": "code",
   "execution_count": 422,
   "metadata": {},
   "outputs": [],
   "source": [
    "comm = UnityCommunication()"
   ]
  },
  {
   "cell_type": "markdown",
   "metadata": {},
   "source": [
    "Select scene number. \n",
    "Please see https://github.com/xavierpuigf/virtualhome/tree/master/simulation#environment .\n",
    "\n",
    "If you want to use the existing activity data provided by VirtualHome, you can load the dataset.\n",
    "Please see the below link for getting the dataset. (Note that there are many errors in the dataset.)\n",
    "https://github.com/xavierpuigf/virtualhome#dataset"
   ]
  },
  {
   "cell_type": "code",
   "execution_count": 423,
   "metadata": {},
   "outputs": [],
   "source": [
    "scene = 1\n",
    "scene_graph = \"TrimmedTestScene\" + str(scene) + \"_graph\"\n",
    "executable_program_path = \"../dataset/programs_processed_precond_nograb_morepreconds/executable_programs/\" + scene_graph + \"/*/*.txt\"\n",
    "executable_program_list = []\n",
    "for file_path in glob.glob(executable_program_path):\n",
    "    executable_program_list.append(file_path.replace(\"../dataset/programs_processed_precond_nograb_morepreconds/executable_programs/\" + scene_graph + \"/\", \"\"))"
   ]
  },
  {
   "cell_type": "markdown",
   "metadata": {},
   "source": [
    "The HomeOntology is used for randomly selecting an activity.\n",
    "Load HomeOntology as RDF graph.\n",
    "If you do not select an activity randomly, you do not have to use the HomeOntology."
   ]
  },
  {
   "cell_type": "code",
   "execution_count": 424,
   "metadata": {},
   "outputs": [
    {
     "data": {
      "text/plain": [
       "<Graph identifier=Ne6c7b96fef0146c7a8ff5d367ebb7235 (<class 'rdflib.graph.Graph'>)>"
      ]
     },
     "execution_count": 424,
     "metadata": {},
     "output_type": "execute_result"
    }
   ],
   "source": [
    "rdf_g = rdflib.Graph()\n",
    "rdf_g.parse(\"../ontology/vh2kg_ontology.ttl\", format=\"ttl\")"
   ]
  },
  {
   "cell_type": "code",
   "execution_count": 425,
   "metadata": {},
   "outputs": [],
   "source": [
    "def get_activity_from_ontology(activity_type):\n",
    "    results = []\n",
    "    qres = rdf_g.query(\n",
    "    \"\"\"\n",
    "PREFIX rdf: <http://www.w3.org/1999/02/22-rdf-syntax-ns#>\n",
    "PREFIX : <http://www.owl-ontologies.com/VirtualHome.owl#>\n",
    "PREFIX rdfs: <http://www.w3.org/2000/01/rdf-schema#>\n",
    "select ?activity where { \n",
    "    ?activity rdfs:subClassOf :%s .\n",
    " } \n",
    "       \"\"\" % activity_type)\n",
    "\n",
    "    result = \"\"\n",
    "    for row in qres:\n",
    "        activity = \"\".join(row).replace(\"http://www.owl-ontologies.com/VirtualHome.owl#\",\"\")\n",
    "        arr = activity.split(\"_\")\n",
    "        arr[0] = arr[0].capitalize()\n",
    "        activity = \" \".join(arr)\n",
    "        result = activity\n",
    "        results.append(result)\n",
    "    return results"
   ]
  },
  {
   "cell_type": "code",
   "execution_count": 426,
   "metadata": {},
   "outputs": [],
   "source": [
    "def generate_list_of_steps(file_path):\n",
    "    file = open(file_path, \"r\", encoding=\"utf-8\")\n",
    "    i = 0\n",
    "    list_of_steps = []\n",
    "    program_name = \"\"\n",
    "    description = \"\"\n",
    "    char= \"<char0>\"\n",
    "    while True:\n",
    "        line = file.readline()\n",
    "        if line:\n",
    "            line = line.replace(\"\\n\",\"\")\n",
    "            if i==0:\n",
    "                program_name = line\n",
    "            elif i==1:\n",
    "                description = line\n",
    "            elif line.startswith(\"[\"):\n",
    "                list_of_steps.append(line)\n",
    "            else:\n",
    "                pass\n",
    "            i+=1\n",
    "        else:\n",
    "            break\n",
    "    return program_name, description, list_of_steps"
   ]
  },
  {
   "cell_type": "code",
   "execution_count": 427,
   "metadata": {},
   "outputs": [],
   "source": [
    "def get_activity_program(category):\n",
    "    #unexecutable = [\"Take shower\", \"Take shoes off\", \"Wash teeth\", \"Wash face\", \"Dust\", \"Clean toilet\", \"Clean room\", \"Scrubbing living room tile floor is once week activity for me\", \"Clean mirror\", \"Play games\", \"Play on laptop\", \"Read on sofa\"]\n",
    "    unexecutable = []\n",
    "    executable = []\n",
    "    activities = get_activity_from_ontology(category)\n",
    "    for activity_name in activities:\n",
    "        if activity_name in unexecutable:\n",
    "            continue\n",
    "        results = [program for program in program_list if program[\"name\"] == activity_name]\n",
    "        if len(results) == 0:\n",
    "            print(\"Nothing: \" + activity_name)\n",
    "        else:\n",
    "            print(\"Success: \" + activity_name)\n",
    "            executable.append({\"activity_name\": activity_name, \"results\": results})\n",
    "    return executable"
   ]
  },
  {
   "cell_type": "code",
   "execution_count": 428,
   "metadata": {},
   "outputs": [],
   "source": [
    "data_path = \"../dataset/programs_processed_precond_nograb_morepreconds/withoutconds/*/*.txt\"\n",
    "program_list = []\n",
    "for file_path in glob.glob(data_path):\n",
    "    file_name = file_path.replace(\"../dataset/programs_processed_precond_nograb_morepreconds/withoutconds/\", \"\")\n",
    "    if file_name in executable_program_list:\n",
    "        program_name, description, list_of_steps = generate_list_of_steps(file_path)\n",
    "        program_list.append({\n",
    "            \"file_name\":file_name,\n",
    "            \"name\": program_name,\n",
    "            \"description\": description,\n",
    "            \"list_of_steps\": list_of_steps\n",
    "        })"
   ]
  },
  {
   "cell_type": "code",
   "execution_count": 429,
   "metadata": {},
   "outputs": [
    {
     "name": "stdout",
     "output_type": "stream",
     "text": [
      "Success: Read magazine\n",
      "Success: Relax\n",
      "Nothing: Play\n",
      "Nothing: Playtime lunch with dolls\n",
      "Nothing: Turn on tv\n",
      "Success: Watch youtube\n",
      "Nothing: Practice violin\n",
      "Nothing: Change tv channels\n",
      "Nothing: Play with barbies\n",
      "Success: Movie\n",
      "Success: Watch  horror  movie\n",
      "Nothing: In living room i eat dinner\n",
      "Success: Surf net\n",
      "Success: Browse internet\n",
      "Nothing: Sing karaoke\n",
      "Nothing: Play guitar\n",
      "Success: Playing video game\n",
      "Success: Listen to music\n",
      "Nothing: Social media  checks\n",
      "Nothing: Tabletop game\n",
      "Success: Turn on radio\n",
      "Success: Watch movie\n",
      "Nothing: Play on laptop\n",
      "Nothing: Read yourself to sleep\n",
      "Success: Read news\n",
      "Success: Read book\n",
      "Nothing: Sing song\n",
      "Nothing: Turn on tv with remote\n",
      "Nothing: Play piano\n",
      "Nothing: Watch tv\n",
      "Success: Play musical chairs\n",
      "Success: Relax on sofa\n",
      "Nothing: Eat while watching tv\n",
      "Nothing: Practice own singing\n",
      "Success: Surf internet\n",
      "Success: Read newspaper\n",
      "Nothing: Dance\n",
      "Nothing: Read on sofa\n",
      "Success: Play games\n",
      "Nothing: Turn off tv\n",
      "Success: Browse computer\n",
      "Nothing: Juggling\n"
     ]
    }
   ],
   "source": [
    "activity_list = []\n",
    "executable_activity_list = get_activity_program(\"Leisure\")"
   ]
  },
  {
   "cell_type": "code",
   "execution_count": 430,
   "metadata": {},
   "outputs": [],
   "source": [
    "unsupport_unity_exec_time = {\n",
    "    \"Wipe\": 5.0,\n",
    "    \"PutOn\": 10.0,\n",
    "    \"PutOff\": 10.0,\n",
    "    \"Greet\": 3.0,\n",
    "    \"Drop\": 2.0,\n",
    "    \"Read\": 1800.0,\n",
    "    \"Lie\": 5.0,\n",
    "    \"Pour\": 5.0,\n",
    "    \"Type\": 10.0,\n",
    "    \"Watch\": 7200.0,\n",
    "    \"Move\": 5.0,\n",
    "    \"Wash\": 10.0,\n",
    "    \"Squeeze\": 5.0,\n",
    "    \"PlugIn\": 5.0,\n",
    "    \"PlugOut\": 5.0,\n",
    "    \"Cut\": 5.0,\n",
    "    \"Eat\": 1200.0,\n",
    "    \"Sleep\": 21600.0,\n",
    "    \"Wake\": 5.0\n",
    "}"
   ]
  },
  {
   "cell_type": "code",
   "execution_count": 431,
   "metadata": {},
   "outputs": [],
   "source": [
    "def check_unsupport_action(script):\n",
    "    flag = True\n",
    "    for line in script:\n",
    "        m = re.search(r'\\[.+\\]', line)\n",
    "        action = m.group().replace('[', '')\n",
    "        action = action.replace(']', '')\n",
    "        if action in [x for x in unsupport_unity_exec_time.keys()]:\n",
    "            flag = False\n",
    "            break\n",
    "    return flag"
   ]
  },
  {
   "cell_type": "code",
   "execution_count": 432,
   "metadata": {},
   "outputs": [],
   "source": [
    "def export(activity_name, graph_state_list, activity_cnt, time_list):\n",
    "    os.mkdir(\"graph_state_list_with_bbox/scene\" + str(scene) + \"/\" + activity_name + \"/\" + activity_cnt)\n",
    "    state_cnt = 0\n",
    "    for graph_state in graph_state_list:\n",
    "        state_cnt += 1\n",
    "        file_path = \"graph_state_list_with_bbox/scene\" + str(scene) + \"/\"  + activity_name + \"/\" + activity_cnt + \"/activityList-graph-state-\" + '{0:03d}'.format(state_cnt) + \".json\"\n",
    "        with open(file_path, 'w') as outfile:\n",
    "            json.dump(graph_state, outfile)\n",
    "\n",
    "    with open(\"graph_state_list_with_bbox/scene\" + str(scene) + \"/\" + activity_name + \"/\" + activity_cnt + \"/activityList-program.txt\", 'w') as f:\n",
    "        for s in executed_program:\n",
    "            f.write(\"%s\\n\" % s)\n",
    "\n",
    "    with open(\"graph_state_list_with_bbox/scene\" + str(scene) + \"/\" + activity_name + \"/\" + activity_cnt + \"/program-description.txt\", 'w') as f:\n",
    "        f.write(\"%s\\n\" % activity[\"name\"])\n",
    "        f.write(\"%s\\n\" % activity[\"description\"])\n",
    "        \n",
    "    time_list = [str(time) for time in time_list]\n",
    "    duration = \"\\n\".join(time_list)\n",
    "    with open(\"graph_state_list_with_bbox/scene\" + str(scene) + \"/\" + activity_name + \"/\" + activity_cnt + \"/duration.txt\", 'w') as f:\n",
    "        f.write(duration)"
   ]
  },
  {
   "cell_type": "code",
   "execution_count": 433,
   "metadata": {},
   "outputs": [],
   "source": [
    "def update_bbox(pre_graph, current_graph):\n",
    "    try:\n",
    "        new_graph= copy.deepcopy(current_graph)\n",
    "        \n",
    "        for pre_node in pre_graph[\"nodes\"]:\n",
    "            for new_node in new_graph[\"nodes\"]:\n",
    "                if new_node[\"id\"] == pre_node[\"id\"]:\n",
    "                    new_node[\"bounding_box\"] = pre_node[\"bounding_box\"]\n",
    "           \n",
    "    except Exception as e:\n",
    "        print(e)\n",
    "    \n",
    "    return new_graph"
   ]
  },
  {
   "cell_type": "code",
   "execution_count": 434,
   "metadata": {},
   "outputs": [],
   "source": [
    "def delete2000(graph_state_list):\n",
    "    new_graph_state_list = []\n",
    "    for graph_state in graph_state_list:\n",
    "        new_nodes = [x for x in graph_state[\"nodes\"] if x[\"id\"] < 2000]\n",
    "        new_edges = [x for x in graph_state[\"edges\"] if x[\"from_id\"] < 2000 and x[\"to_id\"] < 2000]\n",
    "        new_graph_state_list.append({\"nodes\": new_nodes, \"edges\": new_edges})\n",
    "    return new_graph_state_list"
   ]
  },
  {
   "cell_type": "code",
   "execution_count": 435,
   "metadata": {},
   "outputs": [
    {
     "name": "stdout",
     "output_type": "stream",
     "text": [
      "results_intentions_march-13-18/file416_1.txt\n",
      "results_intentions_march-13-18/file204_2.txt\n",
      "results_intentions_march-13-18/file387_1.txt\n",
      "Script is executable\n",
      "True: <char0> [WALK] <home_office> (336)\n",
      "True: <char0> [WALK] <couch> (369)\n",
      "True: <char0> [FIND] <couch> (369)\n",
      "True: <char0> [SIT] <couch> (369)\n"
     ]
    }
   ],
   "source": [
    "for executable_activity in executable_activity_list:\n",
    "    activity_list = executable_activity[\"results\"]\n",
    "    activity_name = executable_activity[\"activity_name\"]\n",
    "    activity_cnt = 0\n",
    "    try:\n",
    "        # if activity_name != \"Relax on sofa\": \n",
    "        #     continue\n",
    "        os.mkdir(\"graph_state_list_with_bbox/scene\" + str(scene) + \"/\" + activity_name)\n",
    "        for activity in activity_list:\n",
    "            if activity_cnt > 0:\n",
    "                break\n",
    "            try:\n",
    "                new_graph_state_list = []\n",
    "                time_list = []\n",
    "                comm.reset(scene-1)\n",
    "                comm.add_character('chars/Female2')\n",
    "                success, g = comm.environment_graph();\n",
    "                print(activity[\"file_name\"])\n",
    "                script = activity[\"list_of_steps\"]\n",
    "                executable_program = []\n",
    "                for x in script:\n",
    "                    executable_program.append(\"<char0> \" + x)\n",
    "                executable_program\n",
    "\n",
    "                # check if supported action\n",
    "                if check_unsupport_action(script) == False:\n",
    "                    continue\n",
    "                \n",
    "                preconds = add_preconds.get_preconds_script(script).printCondsJSON()\n",
    "                g = check_programs.translate_graph_dict_nofile(g)\n",
    "                info = check_programs.check_script(script, preconds, graph_path=None, inp_graph_dict=g)\n",
    "                message, final_state, graph_state_list, graph_dict, id_mapping, info, helper, executed_script = info\n",
    "                # if delete randomly placced objects \n",
    "                graph_state_list = delete2000(graph_state_list)\n",
    "                print(message)\n",
    "                executed_program = []\n",
    "                for x in executed_script:\n",
    "                    executed_program.append(\"<char0> \" + re.sub(\"\\[\\d+\\]\",\"\",x.__str__()).strip())\n",
    "\n",
    "                if message != \"Script is executable\":\n",
    "                    continue\n",
    "                    \n",
    "                i = 0\n",
    "                comm.expand_scene(graph_state_list[0])\n",
    "                success, g = comm.environment_graph()\n",
    "                g = update_bbox(g, graph_state_list[i])\n",
    "                new_graph_state_list.append(copy.deepcopy(g))\n",
    "\n",
    "                for instruction in executed_program:\n",
    "                    i += 1\n",
    "                    start = time.time()\n",
    "                    success, message = comm.render_script(script=[instruction],\n",
    "                                              #processing_time_limit=80,\n",
    "                                              find_solution=False,\n",
    "                                              #image_width=720,\n",
    "                                              #image_height=480,  \n",
    "                                              #skip_animation=False,\n",
    "                                              recording=True,\n",
    "                                              #gen_vid=True,\n",
    "                                              #save_scene_states=True,\n",
    "                                              #file_name_prefix='test',\n",
    "                                              #output_folder=\"Output/\",\n",
    "                                              frame_rate=15\n",
    "                                             )\n",
    "                    time_list.append(time.time() - start)\n",
    "                    success, g = comm.environment_graph()\n",
    "                    print(str(success) + \": \" + str(instruction))\n",
    "                    g = update_bbox(g, graph_state_list[i])\n",
    "                    new_graph_state_list.append(copy.deepcopy(g))\n",
    "\n",
    "                export(activity_name, new_graph_state_list, str(activity_cnt), time_list)\n",
    "                activity_cnt += 1\n",
    "            except Exception as e:\n",
    "                print(e.args)\n",
    "    except Exception as e:\n",
    "        print(e.args)"
   ]
  },
  {
   "cell_type": "code",
   "execution_count": null,
   "metadata": {},
   "outputs": [],
   "source": []
  },
  {
   "cell_type": "code",
   "execution_count": null,
   "metadata": {},
   "outputs": [],
   "source": []
  },
  {
   "cell_type": "code",
   "execution_count": null,
   "metadata": {},
   "outputs": [],
   "source": []
  }
 ],
 "metadata": {
  "interpreter": {
   "hash": "f4a0d4bfb318a672460427a841d229964a2979d09dc032f8c452ffe5bc93cb85"
  },
  "kernelspec": {
   "display_name": "Python 3",
   "language": "python",
   "name": "python3"
  },
  "language_info": {
   "codemirror_mode": {
    "name": "ipython",
    "version": 3
   },
   "file_extension": ".py",
   "mimetype": "text/x-python",
   "name": "python",
   "nbconvert_exporter": "python",
   "pygments_lexer": "ipython3",
   "version": "3.8.3"
  }
 },
 "nbformat": 4,
 "nbformat_minor": 4
}
