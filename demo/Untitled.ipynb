{
 "cells": [
  {
   "cell_type": "code",
   "execution_count": 1,
   "id": "d722ec1b",
   "metadata": {},
   "outputs": [],
   "source": [
    "import json"
   ]
  },
  {
   "cell_type": "code",
   "execution_count": 49,
   "id": "a1c6a28f",
   "metadata": {},
   "outputs": [
    {
     "name": "stdout",
     "output_type": "stream",
     "text": [
      "json_dirct:<class 'dict'>\n"
     ]
    }
   ],
   "source": [
    "with open('20211028_tv_2.json','r') as jdata:\n",
    "    #json_data = json.load(fHandle)\n",
    "    #print(jdata)\n",
    "    #str = jdata.read()\n",
    "    #print(str)\n",
    "    d = json.load(jdata)\n",
    "    #print(d)\n",
    "    print(\"json_dirct:{}\".format(type(d)))\n",
    "    #print('book1の情報：{}'.format(d['book1']))\n",
    "    #print('book3のページ数:{}'.format(d['book3']['page']))"
   ]
  },
  {
   "cell_type": "code",
   "execution_count": null,
   "id": "a83bf8ee",
   "metadata": {},
   "outputs": [],
   "source": []
  }
 ],
 "metadata": {
  "kernelspec": {
   "display_name": "Python 3 (ipykernel)",
   "language": "python",
   "name": "python3"
  },
  "language_info": {
   "codemirror_mode": {
    "name": "ipython",
    "version": 3
   },
   "file_extension": ".py",
   "mimetype": "text/x-python",
   "name": "python",
   "nbconvert_exporter": "python",
   "pygments_lexer": "ipython3",
   "version": "3.7.4"
  }
 },
 "nbformat": 4,
 "nbformat_minor": 5
}
