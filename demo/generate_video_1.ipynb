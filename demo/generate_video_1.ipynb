{
 "cells": [
  {
   "cell_type": "code",
   "execution_count": 1,
   "id": "dbf86ab9",
   "metadata": {
    "scrolled": false
   },
   "outputs": [
    {
     "name": "stdout",
     "output_type": "stream",
     "text": [
      "Starting scene...\n",
      "True\n",
      "Generating video...\n",
      "(True, {'0': {'message': 'Success'}})\n"
     ]
    }
   ],
   "source": [
    "# Generate video for a program. Make sure you have the executable open\n",
    "import sys\n",
    "sys.path.append('../simulation/')\n",
    "from unity_simulator.comm_unity import UnityCommunication\n",
    "#script = ['<char0> [Walk] <towel> (1)', '<char0> [Grab] <towel> (1)','<char0> [Pour] <towel> (1)'] # Add here your script\n",
    "#script = ['<char0> [Walk] <towel> (1)', '<char0> [Grab] <towel> (1)'] # Add here your script\n",
    "#script = ['<char0> [Walk] <Bathroom_counter> (1)'] # Add here your script\n",
    "# Brush Script for TestScene => OK\n",
    "#script = ['<char0> [Walk] <toothbrush> (1)', '<char0> [Grab] <toothbrush> (1)', '<char0> [Brush] <toothbrush> (1)']\n",
    "\n",
    "# Cut Script for TestScene_02 Error Can not grab apple, knife\n",
    "#script = ['<char0> [Walk] <apple> (1)', '<char0> [Grab] <apple> (1)']#,'<char0> [Cut] <apple> (1)']\n",
    "\n",
    "#Eat Script for TestScene  => OK ?\n",
    "#script = ['<char0> [Walk] <waterglass> (1)', '<char0> [Grab] <waterglass> (1)', '<char0> [Eat] <waterglass> (1)']\n",
    "\n",
    "# Fold Script for TestScene  => OK ?\n",
    "#script = ['<char0> [Walk] <waterglass> (1)', '<char0> [Grab] <waterglass> (1)', '<char0> [Fold] <waterglass> (1)']\n",
    "\n",
    "# Jumpdown Script for TestScene  => OK\n",
    "#script = ['<char0> [Walk] <tv> (1)', '<char0> [JumpDown]']\n",
    "\n",
    "# New Throw Script for TestScene => OK\n",
    "#script = ['<char0> [Walk] <washingsponge> (1)', '<char0> [Grab] <washingsponge> (1)', '<char0> [Throw] <washingsponge> (1)']\n",
    "\n",
    "# Drop Script for TestScene => !!!! Bad !!!!\n",
    "#script = ['<char0> [Walk] <washingsponge> (1)', '<char0> [Grab] <washingsponge> (1)', '<char0> [Drop] <washingsponge> (1)']\n",
    "\n",
    "# New Squat Script for TestScene => OK\n",
    "#script = ['<char0> [Walk] <tv> (1)', '<char0> [Squat]']\n",
    "\n",
    "# New Fall Script for TestScene => OK\n",
    "#script = ['<char0> [Walk] <tv> (1)', '<char0> [Fall]']\n",
    "\n",
    "# New FallBack Script for TestScene => OK\n",
    "#script = ['<char0> [Walk] <tv> (1)', '<char0> [FallBack]']\n",
    "\n",
    "# New Kneel Script for TestScene\n",
    "#script = ['<char0> [Walk] <tv> (1)', '<char0> [Kneel]']\n",
    "\n",
    "# Stretch Script fot TestScene => OK\n",
    "#script = ['<char0> [Walk] <bed> (1)', '<char0> [Stretch]']\n",
    "\n",
    "# Fold Script fot TestScene => OK\n",
    "#script = ['<char0> [Walk] <bed> (1)', '<char0> [Fold]']\n",
    "\n",
    "# Stir Script fot TestScene => OK\n",
    "#script = ['<char0> [Walk] <washingsponge> (1)','<char0> [Grab] <washingsponge> (1)', '<char0> [Stir] <washingsponge> (1)']\n",
    "\n",
    "# Wrap Script fot TestScene => OK\n",
    "#script = ['<char0> [Walk] <washingsponge> (1)','<char0> [Grab] <washingsponge> (1)', '<char0> [Wrap] <washingsponge> (1)']\n",
    "\n",
    "# LeegOpp Script fot TestScene => OK\n",
    "#script = ['<char0> [Walk] <coffeetable> (1)', '<char0> [Legopp]']\n",
    "\n",
    "# Smell Script for TestScene => OK\n",
    "#script = ['<char0> [Walk] <whippedcream> (1)','<char0> [Grab] <whippedcream> (1)', '<char0> [Smell] <whippedcream> (1)']\n",
    "\n",
    "# Soak Script for TestScene => OK\n",
    "#script = ['<char0> [Walk] <sink> (1)','<char0> [Grab] <washingsponge> (1)', '<char0> [Soak] <washingsponge> (1)']\n",
    "\n",
    "# Lift Script for TestScene => OK\n",
    "#script = ['<char0> [Walk] <sink> (1)','<char0> [Grab] <washingsponge> (1)', '<char0> [Lift] <washingsponge> (1)']\n",
    "\n",
    "# FallBack Script for TestScene => OK\n",
    "#script = ['<char0> [Walk] <rug> (1)', '<char0> [FallBack]']\n",
    "\n",
    "# FallFrom2  Script for TestScene => OK\n",
    "#script = ['<char0> [Walk] <bed> (1)', '<char0> [JumpUp] <bed> (1)', '<char0> [FallFrom2]']\n",
    "\n",
    "# Climb  Script for TestScene => \n",
    "#script = ['<char0> [Walk] <bed> (1)', '<char0> [Climb] <bed> (1)', '<char0> [GoDown]']\n",
    "\n",
    "# Squeeze Script for TestScene => OK\n",
    "#script = ['<char0> [Walk] <washingsponge> (1)', '<char0> [Grab] <washingsponge> (1)','<char0> [Squeeze] <washingsponge> (1)']\n",
    "\n",
    "# Rinse Script for TestScene => OK\n",
    "#script = ['<char0> [Walk] <washingsponge> (1)', '<char0> [Grab] <washingsponge> (1)','<char0> [Rinse] <washingsponge> (1)']\n",
    "\n",
    "# UnFlod Script for TestScene => OK\n",
    "#script = ['<char0> [Walk] <washingsponge> (1)', '<char0> [Grab] <washingsponge> (1)', '<char0> [UnFold]']\n",
    "\n",
    "# JumpUp for TestScene => OK\n",
    "#script = ['<char0> [Walk] <bed> (1)', '<char0> [JumpUp] <bed> (1)']\n",
    "\n",
    "# Jump Up FallTabel for TestScene => OK\n",
    "#script = ['<char0> [Walk] <bed> (1)', '<char0> [JumpUp]', '<char0> [FallTable]']\n",
    "\n",
    "# Kneel Script fot TestScene => OK\n",
    "#script = ['<char0> [Walk] <coffeetable> (1)', '<char0> [Kneel]']#, '<char0> [Stand]', '<char0> [Walk] <tv> (1)']\n",
    "\n",
    "# Squat Script for TestScene => OK\n",
    "#script = ['<char0> [Walk] <tv> (1)', '<char0> [Squat]', '<char0> [Stand]', '<char0> [Walk] <sofa> (1)']\n",
    "\n",
    "# Jump Up Script for TestScene => OK\n",
    "#script = ['<char0> [Walk] <bed> (1)', '<char0> [JumpUp]  <bed> (1)']\n",
    "\n",
    "# New Sit Script for TestScene => OK\n",
    "#script  = ['<char0> [Walk] <sofa> (1)', '<char0> [Sit] <sofa> (1)','<char0> [FallSit]']\n",
    "\n",
    "# PickUp Script for TestScne => OK\n",
    "#script  = ['<char0> [Walk] <coffeetable> (1)', '<char0> [Grab] <wineglass> (1)']\n",
    "\n",
    "# Climb Scriot for TestScne =>\n",
    "#script = ['<char0> [Walk] <coffeetable> (1)', '<char0> [Climb] <coffeetable> (1)']\n",
    "\n",
    "# 2D Rect Scriot for TestScne =>\n",
    "#script = ['<char0> [Walk] <coffeetable> (113)', '<char0> [Walk] <coffeetable> (113)''<char0> [Walk] <sofa> (369)']\n",
    "\n",
    "# 2D Rect Scriot for TestScne =>\n",
    "#script = ['<char0> [Walk] <coffeetable> (113)']\n",
    "\n",
    "# Swithch on TV for checking Graph\n",
    "script = ['<char0> [Walk] <tv> (265)']#, '<char0> [Switchon] <tv> (265)' ]\n",
    "\n",
    "#print('Starting Unity...')\n",
    "comm = UnityCommunication()\n",
    "print('Starting scene...')\n",
    "message = comm.reset()\n",
    "print(message)\n",
    "comm.add_character('Chars/Female4')\n",
    "print('Generating video...')\n",
    "s = comm.render_script(script, recording=True, find_solution=True, frame_rate=15, vis_check_object=True, out_graph=True)\n",
    "print(s)\n",
    "#su, graph = comm.environment_graph()\n",
    "#print(su)\n",
    "#print(graph)\n",
    "#print('Generated, find video in simulation/unity_simulator/output/')"
   ]
  },
  {
   "cell_type": "code",
   "execution_count": 2,
   "id": "ac08840b",
   "metadata": {},
   "outputs": [
    {
     "name": "stdout",
     "output_type": "stream",
     "text": [
      "True\n"
     ]
    }
   ],
   "source": [
    "success, graph = comm.environment_graph()\n",
    "print(success)"
   ]
  },
  {
   "cell_type": "code",
   "execution_count": 3,
   "id": "a204b702",
   "metadata": {
    "scrolled": true
   },
   "outputs": [
    {
     "name": "stdout",
     "output_type": "stream",
     "text": [
      "[265, 427]\n"
     ]
    }
   ],
   "source": [
    "TV_id = [node['id'] for node in graph['nodes'] if node['class_name'] == 'tv']\n",
    "print(TV_id)"
   ]
  },
  {
   "cell_type": "code",
   "execution_count": 4,
   "id": "c3c49cd3",
   "metadata": {},
   "outputs": [
    {
     "name": "stdout",
     "output_type": "stream",
     "text": [
      "[199, 200, 299, 300]\n"
     ]
    }
   ],
   "source": [
    "wineGlass = [node['id'] for node in graph['nodes'] if node['class_name'] == 'wineglass']\n",
    "print(wineGlass)"
   ]
  },
  {
   "cell_type": "code",
   "execution_count": null,
   "id": "0c231288",
   "metadata": {},
   "outputs": [],
   "source": []
  }
 ],
 "metadata": {
  "kernelspec": {
   "display_name": "Python 3 (ipykernel)",
   "language": "python",
   "name": "python3"
  },
  "language_info": {
   "codemirror_mode": {
    "name": "ipython",
    "version": 3
   },
   "file_extension": ".py",
   "mimetype": "text/x-python",
   "name": "python",
   "nbconvert_exporter": "python",
   "pygments_lexer": "ipython3",
   "version": "3.7.4"
  }
 },
 "nbformat": 4,
 "nbformat_minor": 5
}
