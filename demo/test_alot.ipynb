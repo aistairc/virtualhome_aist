{
 "cells": [
  {
   "cell_type": "code",
   "execution_count": 3,
   "id": "b2b6436c",
   "metadata": {},
   "outputs": [
    {
     "name": "stdout",
     "output_type": "stream",
     "text": [
      "Starting scene...\n",
      "True\n"
     ]
    },
    {
     "data": {
      "text/plain": [
       "True"
      ]
     },
     "execution_count": 3,
     "metadata": {},
     "output_type": "execute_result"
    }
   ],
   "source": [
    "import sys\n",
    "sys.path.append('../simulation/')\n",
    "from unity_simulator.comm_unity import UnityCommunication\n",
    "comm = UnityCommunication()\n",
    "print('Starting scene...')\n",
    "message = comm.reset()\n",
    "print(message)\n",
    "comm.add_character('Chars/Female4')"
   ]
  },
  {
   "cell_type": "code",
   "execution_count": null,
   "id": "92dc2619",
   "metadata": {},
   "outputs": [],
   "source": []
  }
 ],
 "metadata": {
  "kernelspec": {
   "display_name": "Python 3 (ipykernel)",
   "language": "python",
   "name": "python3"
  },
  "language_info": {
   "codemirror_mode": {
    "name": "ipython",
    "version": 3
   },
   "file_extension": ".py",
   "mimetype": "text/x-python",
   "name": "python",
   "nbconvert_exporter": "python",
   "pygments_lexer": "ipython3",
   "version": "3.7.4"
  }
 },
 "nbformat": 4,
 "nbformat_minor": 5
}
