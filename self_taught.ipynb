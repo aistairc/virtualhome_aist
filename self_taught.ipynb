{
 "cells": [
  {
   "cell_type": "code",
   "execution_count": 1,
   "id": "ac47a8c0",
   "metadata": {},
   "outputs": [
    {
     "name": "stdout",
     "output_type": "stream",
     "text": [
      "1635387447.159302\n"
     ]
    }
   ],
   "source": [
    "import time\n",
    "ut = time.time()\n",
    "print(ut)"
   ]
  },
  {
   "cell_type": "code",
   "execution_count": 3,
   "id": "2799309e",
   "metadata": {},
   "outputs": [
    {
     "name": "stdout",
     "output_type": "stream",
     "text": [
      "5 6\n"
     ]
    }
   ],
   "source": [
    "def func(x,y):\n",
    "    return x+y, x*y\n",
    "result = func(2,3)\n",
    "plus, multi = result\n",
    "print(plus, multi)"
   ]
  },
  {
   "cell_type": "code",
   "execution_count": 4,
   "id": "11e15082",
   "metadata": {},
   "outputs": [
    {
     "name": "stdout",
     "output_type": "stream",
     "text": [
      "True\n"
     ]
    }
   ],
   "source": [
    "success = ( 5 == 5)\n",
    "print(success)"
   ]
  },
  {
   "cell_type": "code",
   "execution_count": 3,
   "id": "d84e47a7",
   "metadata": {},
   "outputs": [
    {
     "name": "stdout",
     "output_type": "stream",
     "text": [
      "カ\n",
      "ミ\n",
      "ュ\n",
      "ュ\n"
     ]
    }
   ],
   "source": [
    "st = \"カミュ\"\n",
    "print(st[0])\n",
    "print(st[1])\n",
    "print(st[2])\n",
    "print(st[-1])"
   ]
  },
  {
   "cell_type": "code",
   "execution_count": 5,
   "id": "964f1748",
   "metadata": {},
   "outputs": [
    {
     "name": "stdout",
     "output_type": "stream",
     "text": [
      "入力1手紙\n",
      "入力2友人\n",
      "私は昨日手紙を書いて、友人に送った！\n"
     ]
    }
   ],
   "source": [
    "st1 = input(\"入力1\")\n",
    "st2 = input(\"入力2\")\n",
    "st3 = \"私は昨日{}を書いて、{}に送った！\".format(st1, st2)\n",
    "print(st3)"
   ]
  },
  {
   "cell_type": "code",
   "execution_count": 6,
   "id": "7ecedfb7",
   "metadata": {},
   "outputs": [
    {
     "name": "stdout",
     "output_type": "stream",
     "text": [
      "Aldous huxley was born in 1894\n"
     ]
    }
   ],
   "source": [
    "print(\"aldous Huxley was born in 1894\".capitalize())"
   ]
  },
  {
   "cell_type": "code",
   "execution_count": 8,
   "id": "60baf6be",
   "metadata": {},
   "outputs": [
    {
     "name": "stdout",
     "output_type": "stream",
     "text": [
      "['どこで？', '誰が？', 'いつ？']\n"
     ]
    }
   ],
   "source": [
    "print(\"どこで？　誰が？　いつ？\".split(\"　\"))"
   ]
  },
  {
   "cell_type": "code",
   "execution_count": 14,
   "id": "371690b3",
   "metadata": {},
   "outputs": [
    {
     "name": "stdout",
     "output_type": "stream",
     "text": [
      "The fox jumped over the fence.\n"
     ]
    }
   ],
   "source": [
    "stlist = [\"The\", \"fox\", \"jumped\", \"over\", \"the\", \"fence\", \".\"]\n",
    "st = \" \".join(stlist)\n",
    "st = st.replace(\" .\", \".\")\n",
    "print(st)\n"
   ]
  },
  {
   "cell_type": "code",
   "execution_count": 16,
   "id": "becb08de",
   "metadata": {},
   "outputs": [
    {
     "name": "stdout",
     "output_type": "stream",
     "text": [
      "A$creaming come$ acro$$ the $ky\n"
     ]
    }
   ],
   "source": [
    "print(\"Ascreaming comes across the sky\".replace(\"s\", \"$\"))"
   ]
  },
  {
   "cell_type": "code",
   "execution_count": 17,
   "id": "fd1adc1c",
   "metadata": {},
   "outputs": [
    {
     "data": {
      "text/plain": [
       "2"
      ]
     },
     "execution_count": 17,
     "metadata": {},
     "output_type": "execute_result"
    }
   ],
   "source": [
    "\"Hemmingway\".index(\"m\")"
   ]
  },
  {
   "cell_type": "code",
   "execution_count": 18,
   "id": "dbf67cb5",
   "metadata": {},
   "outputs": [
    {
     "data": {
      "text/plain": [
       "'I like \"this\".'"
      ]
     },
     "execution_count": 18,
     "metadata": {},
     "output_type": "execute_result"
    }
   ],
   "source": [
    "\"I like \\\"this\\\".\""
   ]
  },
  {
   "cell_type": "code",
   "execution_count": 19,
   "id": "83a86060",
   "metadata": {},
   "outputs": [
    {
     "data": {
      "text/plain": [
       "'three three three'"
      ]
     },
     "execution_count": 19,
     "metadata": {},
     "output_type": "execute_result"
    }
   ],
   "source": [
    "\"three \" + \"three \" + \"three\""
   ]
  },
  {
   "cell_type": "code",
   "execution_count": 20,
   "id": "317d3e4b",
   "metadata": {},
   "outputs": [
    {
     "data": {
      "text/plain": [
       "'threethreethree'"
      ]
     },
     "execution_count": 20,
     "metadata": {},
     "output_type": "execute_result"
    }
   ],
   "source": [
    "\"three\"*3"
   ]
  },
  {
   "cell_type": "code",
   "execution_count": 22,
   "id": "c22aece4",
   "metadata": {},
   "outputs": [
    {
     "name": "stdout",
     "output_type": "stream",
     "text": [
      "three three three\n"
     ]
    }
   ],
   "source": [
    "st = \"three\"*3\n",
    "st= st.replace(\"ee\", \"ee \")\n",
    "st = st.strip()\n",
    "print(st)"
   ]
  },
  {
   "cell_type": "code",
   "execution_count": 23,
   "id": "99d7c6d2",
   "metadata": {},
   "outputs": [
    {
     "name": "stdout",
     "output_type": "stream",
     "text": [
      "I like \"this\".\n"
     ]
    }
   ],
   "source": [
    "print(\"I like \\\"this\\\".\")"
   ]
  },
  {
   "cell_type": "code",
   "execution_count": 24,
   "id": "003734b3",
   "metadata": {},
   "outputs": [
    {
     "data": {
      "text/plain": [
       "'計がどれも十三時を打っていた'"
      ]
     },
     "execution_count": 24,
     "metadata": {},
     "output_type": "execute_result"
    }
   ],
   "source": [
    "st = \"4月の晴れた寒い日で、時計がどれも十三時を打っていた\"\n",
    "st[12:]"
   ]
  },
  {
   "cell_type": "code",
   "execution_count": 25,
   "id": "e82e0432",
   "metadata": {},
   "outputs": [
    {
     "name": "stdout",
     "output_type": "stream",
     "text": [
      "T\n",
      "e\n",
      "d\n"
     ]
    }
   ],
   "source": [
    "name = \"Ted\"\n",
    "for character in name:\n",
    "    print(character)"
   ]
  },
  {
   "cell_type": "code",
   "execution_count": 26,
   "id": "d582fc02",
   "metadata": {},
   "outputs": [
    {
     "name": "stdout",
     "output_type": "stream",
     "text": [
      "GOT\n",
      "Narcos\n",
      "Vice\n"
     ]
    }
   ],
   "source": [
    "shows = [\"GOT\", \"Narcos\", \"Vice\"]\n",
    "for show in shows:\n",
    "    print(show)"
   ]
  },
  {
   "cell_type": "code",
   "execution_count": 27,
   "id": "48cbeb00",
   "metadata": {},
   "outputs": [
    {
     "name": "stdout",
     "output_type": "stream",
     "text": [
      "A. Development\n",
      "Frieds\n",
      "Always SUnny\n"
     ]
    }
   ],
   "source": [
    "coms = (\"A. Development\", \"Frieds\", \"Always SUnny\")\n",
    "for show in coms:\n",
    "    print(show)"
   ]
  },
  {
   "cell_type": "code",
   "execution_count": 28,
   "id": "90cf1783",
   "metadata": {},
   "outputs": [
    {
     "name": "stdout",
     "output_type": "stream",
     "text": [
      "G. Bluth II\n",
      "Barney\n",
      "Dennis\n"
     ]
    }
   ],
   "source": [
    "people = {\"G. Bluth II\":\"A.Development\", \"Barney\":\"HIMYM\", \"Dennis\":\"Always Sunny\"}\n",
    "for character in people:\n",
    "    print(character)"
   ]
  },
  {
   "cell_type": "code",
   "execution_count": 29,
   "id": "ed8a1c18",
   "metadata": {},
   "outputs": [
    {
     "name": "stdout",
     "output_type": "stream",
     "text": [
      "['GOT', 'NARCOS', 'VICE']\n"
     ]
    }
   ],
   "source": [
    "tv = [\"GOT\", \"Narcos\", \"Vice\"]\n",
    "i = 0\n",
    "for show in tv:\n",
    "    new = tv[i]\n",
    "    new = new.upper()\n",
    "    tv[i] = new\n",
    "    i += 1\n",
    "    \n",
    "print(tv)"
   ]
  },
  {
   "cell_type": "code",
   "execution_count": 30,
   "id": "582d20a3",
   "metadata": {},
   "outputs": [
    {
     "name": "stdout",
     "output_type": "stream",
     "text": [
      "['GOT', 'NARCOS', 'VICE']\n"
     ]
    }
   ],
   "source": [
    "tv = [\"GOT\", \"Narcos\", \"Vice\"]\n",
    "for i, new in enumerate(tv):\n",
    "    new = tv[i]\n",
    "    new = new.upper()\n",
    "    tv[i] = new\n",
    "    \n",
    "print(tv)"
   ]
  },
  {
   "cell_type": "code",
   "execution_count": 31,
   "id": "95507ac0",
   "metadata": {},
   "outputs": [
    {
     "name": "stdout",
     "output_type": "stream",
     "text": [
      "['GOT', 'NARCOS', 'VICE', 'ARRESTED DEVELOPMENT', 'FRIENDS', 'ALWAYS SUNNY']\n"
     ]
    }
   ],
   "source": [
    "tv = [\"GOT\", \"Narcos\", \"Vice\"]\n",
    "coms = [\"Arrested Development\", \"friends\", \"Always Sunny\"]\n",
    "all_shows= []\n",
    "\n",
    "for show in tv:\n",
    "    show = show.upper()\n",
    "    all_shows.append(show)\n",
    "    \n",
    "for show in coms:\n",
    "    show = show.upper()\n",
    "    all_shows.append(show)\n",
    "    \n",
    "print(all_shows)"
   ]
  },
  {
   "cell_type": "code",
   "execution_count": 32,
   "id": "326d1c76",
   "metadata": {},
   "outputs": [
    {
     "name": "stdout",
     "output_type": "stream",
     "text": [
      "1\n",
      "2\n",
      "3\n",
      "4\n",
      "5\n",
      "6\n",
      "7\n",
      "8\n",
      "9\n",
      "10\n"
     ]
    }
   ],
   "source": [
    "for i in range(1, 11):\n",
    "    print(i)"
   ]
  },
  {
   "cell_type": "code",
   "execution_count": 33,
   "id": "b088ac1d",
   "metadata": {},
   "outputs": [
    {
     "name": "stdout",
     "output_type": "stream",
     "text": [
      "10\n",
      "9\n",
      "8\n",
      "7\n",
      "6\n",
      "5\n",
      "4\n",
      "3\n",
      "2\n",
      "1\n",
      "Happy New Year!\n"
     ]
    }
   ],
   "source": [
    "x = 10\n",
    "while x > 0:\n",
    "    print('{}'.format(x))\n",
    "    x -= 1\n",
    "print(\"Happy New Year!\")"
   ]
  },
  {
   "cell_type": "code",
   "execution_count": 34,
   "id": "e6895141",
   "metadata": {},
   "outputs": [
    {
     "name": "stdout",
     "output_type": "stream",
     "text": [
      "Type q to quit\n",
      "What is your name ?yuji\n",
      "Type q to quit\n",
      "What is your fav. color?blue\n",
      "Type q to quit\n",
      "What is your quest?coding\n",
      "Type q to quit\n",
      "What is your name ?q\n"
     ]
    }
   ],
   "source": [
    "qs = [\"What is your name ?\", \"What is your fav. color?\", \"What is your quest?\"]\n",
    "n = 0\n",
    "while True:\n",
    "    print(\"Type q to quit\")\n",
    "    a = input(qs[n])\n",
    "    if a == \"q\":\n",
    "        break\n",
    "    n = (n + 1) % 3\n"
   ]
  },
  {
   "cell_type": "code",
   "execution_count": 35,
   "id": "12a4a0ee",
   "metadata": {},
   "outputs": [
    {
     "name": "stdout",
     "output_type": "stream",
     "text": [
      "1\n",
      "2\n",
      "4\n",
      "5\n"
     ]
    }
   ],
   "source": [
    "for i in range(1,6):\n",
    "    if i == 3:\n",
    "        continue\n",
    "    print(i)\n",
    "    \n"
   ]
  },
  {
   "cell_type": "code",
   "execution_count": 36,
   "id": "92bf4b2c",
   "metadata": {},
   "outputs": [
    {
     "name": "stdout",
     "output_type": "stream",
     "text": [
      "1\n",
      "a\n",
      "b\n",
      "c\n",
      "2\n",
      "a\n",
      "b\n",
      "c\n"
     ]
    }
   ],
   "source": [
    "for i in range(1,3):\n",
    "    print(i)\n",
    "    for letter in [\"a\", \"b\", \"c\"]:\n",
    "        print(letter)\n",
    "        \n"
   ]
  },
  {
   "cell_type": "code",
   "execution_count": 37,
   "id": "22cefc87",
   "metadata": {},
   "outputs": [
    {
     "name": "stdout",
     "output_type": "stream",
     "text": [
      "6\n",
      "7\n",
      "8\n",
      "9\n",
      "7\n",
      "8\n",
      "9\n",
      "10\n",
      "8\n",
      "9\n",
      "10\n",
      "11\n",
      "9\n",
      "10\n",
      "11\n",
      "12\n"
     ]
    }
   ],
   "source": [
    "list1 = [1,2,3,4]\n",
    "list2 = [5,6,7,8]\n",
    "added = []\n",
    "for i in list1:\n",
    "    for j in list2:\n",
    "        print(i + j)\n",
    "        \n",
    "        "
   ]
  },
  {
   "cell_type": "code",
   "execution_count": 38,
   "id": "a01d2cb3",
   "metadata": {},
   "outputs": [
    {
     "name": "stdout",
     "output_type": "stream",
     "text": [
      "[6, 7, 8, 9, 7, 8, 9, 10, 8, 9, 10, 11, 9, 10, 11, 12]\n"
     ]
    }
   ],
   "source": [
    "list1 = [1,2,3,4]\n",
    "list2 = [5,6,7,8]\n",
    "added = []\n",
    "for i in list1:\n",
    "    for j in list2:\n",
    "        added.append(i +j)\n",
    "print(added)"
   ]
  },
  {
   "cell_type": "code",
   "execution_count": 39,
   "id": "c146d562",
   "metadata": {},
   "outputs": [
    {
     "name": "stdout",
     "output_type": "stream",
     "text": [
      "Waling ded\n",
      "Antragu\n",
      "The sopranos\n",
      "Vampire-dailies\n"
     ]
    }
   ],
   "source": [
    "list = [\"Waling ded\", \"Antragu\", \"The sopranos\", \"Vampire-dailies\"]\n",
    "for word in list:\n",
    "    print(word)\n"
   ]
  },
  {
   "cell_type": "code",
   "execution_count": 40,
   "id": "8c684ac4",
   "metadata": {},
   "outputs": [
    {
     "name": "stdout",
     "output_type": "stream",
     "text": [
      "25\n",
      "26\n",
      "27\n",
      "28\n",
      "29\n",
      "30\n",
      "31\n",
      "32\n",
      "33\n",
      "34\n",
      "35\n",
      "36\n",
      "37\n",
      "38\n",
      "39\n",
      "40\n",
      "41\n",
      "42\n",
      "43\n",
      "44\n",
      "45\n",
      "46\n",
      "47\n",
      "48\n",
      "49\n",
      "50\n"
     ]
    }
   ],
   "source": [
    "for i in range(25,51):\n",
    "    print(i)"
   ]
  },
  {
   "cell_type": "code",
   "execution_count": null,
   "id": "e0f3c05d",
   "metadata": {},
   "outputs": [],
   "source": [
    "ans = [1,3,5]\n",
    "while True:\n",
    "    a = input(\"Number?\")\n",
    "    if a == \"q\":\n",
    "        break\n",
    "    for n in ans:\n",
    "        if a == n:\n",
    "            print(\"Correct!\")\n",
    "            break;\n",
    "        else:\n",
    "            print(\"Wrong...\")\n",
    "            break:"
   ]
  },
  {
   "cell_type": "code",
   "execution_count": null,
   "id": "ae359ea4",
   "metadata": {},
   "outputs": [],
   "source": [
    "ans = [1,3,5]\n",
    "while True:\n",
    "    a = input(\"Number?\")\n",
    "  \n"
   ]
  },
  {
   "cell_type": "code",
   "execution_count": null,
   "id": "dc11254d",
   "metadata": {},
   "outputs": [],
   "source": [
    "print(2)"
   ]
  },
  {
   "cell_type": "code",
   "execution_count": 1,
   "id": "68b1923f",
   "metadata": {},
   "outputs": [
    {
     "name": "stdout",
     "output_type": "stream",
     "text": [
      "2\n"
     ]
    }
   ],
   "source": [
    "print(2)\n"
   ]
  },
  {
   "cell_type": "code",
   "execution_count": 1,
   "id": "f5fdda0a",
   "metadata": {},
   "outputs": [
    {
     "name": "stdout",
     "output_type": "stream",
     "text": [
      "Number?1\n",
      "1 Wrong... n is 1\n",
      "1 Wrong... n is 3\n",
      "1 Wrong... n is 5\n",
      "Number?2\n",
      "2 Wrong... n is 1\n",
      "2 Wrong... n is 3\n",
      "2 Wrong... n is 5\n",
      "Number?3\n",
      "3 Wrong... n is 1\n",
      "3 Wrong... n is 3\n",
      "3 Wrong... n is 5\n",
      "Number?4\n",
      "4 Wrong... n is 1\n",
      "4 Wrong... n is 3\n",
      "4 Wrong... n is 5\n",
      "Number?5\n",
      "5 Wrong... n is 1\n",
      "5 Wrong... n is 3\n",
      "5 Wrong... n is 5\n",
      "Number?q\n"
     ]
    }
   ],
   "source": [
    "ans = [1,3,5]\n",
    "while True:\n",
    "    a = input(\"Number?\")\n",
    "    if a == \"q\":\n",
    "        break\n",
    "    for n in ans:\n",
    "        if a ==  int(n):\n",
    "            print(\"{} Correct!\".format(a))\n",
    "        else:\n",
    "            print(\"{} Wrong...\".format(a) + \" n is {}\".format(n))\n"
   ]
  },
  {
   "cell_type": "code",
   "execution_count": 4,
   "id": "c817a4ec",
   "metadata": {},
   "outputs": [
    {
     "name": "stdout",
     "output_type": "stream",
     "text": [
      "2\n",
      "4\n",
      "6\n"
     ]
    }
   ],
   "source": [
    "ans = [1,3,5]\n",
    "for n in ans:\n",
    "    print(n+1)"
   ]
  },
  {
   "cell_type": "code",
   "execution_count": 4,
   "id": "bdd7ff39",
   "metadata": {},
   "outputs": [
    {
     "name": "stdout",
     "output_type": "stream",
     "text": [
      "Number?3\n",
      "4\n",
      "6\n",
      "8\n",
      "Wrong\n",
      "Number?4\n",
      "4\n",
      "Correct\n",
      "Number?q\n"
     ]
    },
    {
     "ename": "ValueError",
     "evalue": "invalid literal for int() with base 10: 'q'",
     "output_type": "error",
     "traceback": [
      "\u001b[1;31m---------------------------------------------------------------------------\u001b[0m",
      "\u001b[1;31mValueError\u001b[0m                                Traceback (most recent call last)",
      "\u001b[1;32mC:\\Users\\YUUJI_~1\\AppData\\Local\\Temp/ipykernel_9308/1838024742.py\u001b[0m in \u001b[0;36m<module>\u001b[1;34m\u001b[0m\n\u001b[0;32m      2\u001b[0m \u001b[1;32mwhile\u001b[0m \u001b[1;32mTrue\u001b[0m\u001b[1;33m:\u001b[0m\u001b[1;33m\u001b[0m\u001b[1;33m\u001b[0m\u001b[0m\n\u001b[0;32m      3\u001b[0m     \u001b[0ma\u001b[0m \u001b[1;33m=\u001b[0m \u001b[0minput\u001b[0m\u001b[1;33m(\u001b[0m\u001b[1;34m\"Number?\"\u001b[0m\u001b[1;33m)\u001b[0m\u001b[1;33m\u001b[0m\u001b[1;33m\u001b[0m\u001b[0m\n\u001b[1;32m----> 4\u001b[1;33m     \u001b[0ma_num\u001b[0m \u001b[1;33m=\u001b[0m \u001b[0mint\u001b[0m\u001b[1;33m(\u001b[0m\u001b[0ma\u001b[0m\u001b[1;33m)\u001b[0m\u001b[1;33m\u001b[0m\u001b[1;33m\u001b[0m\u001b[0m\n\u001b[0m\u001b[0;32m      5\u001b[0m     \u001b[0mb\u001b[0m \u001b[1;33m=\u001b[0m \u001b[1;32mFalse\u001b[0m\u001b[1;33m\u001b[0m\u001b[1;33m\u001b[0m\u001b[0m\n\u001b[0;32m      6\u001b[0m     \u001b[1;32mif\u001b[0m \u001b[0ma\u001b[0m \u001b[1;33m==\u001b[0m \u001b[1;34m\"q\"\u001b[0m\u001b[1;33m:\u001b[0m\u001b[1;33m\u001b[0m\u001b[1;33m\u001b[0m\u001b[0m\n",
      "\u001b[1;31mValueError\u001b[0m: invalid literal for int() with base 10: 'q'"
     ]
    }
   ],
   "source": [
    "ans = [4,6,8]\n",
    "while True:\n",
    "    a = input(\"Number?\")\n",
    "    a_num = int(a)\n",
    "    b = False\n",
    "    if a == \"q\":\n",
    "        break\n",
    "    for i in range(0,3):\n",
    "        print(ans[i])\n",
    "        if a_num == ans[i]:\n",
    "            b = True\n",
    "            break\n",
    "        else:\n",
    "            b = False\n",
    "            \n",
    "    if b == True:\n",
    "        print(\"Correct\")\n",
    "    else:\n",
    "        print(\"Wrong\")\n",
    "\n",
    "        \n",
    "       "
   ]
  },
  {
   "cell_type": "code",
   "execution_count": 2,
   "id": "082fb0b2",
   "metadata": {},
   "outputs": [
    {
     "name": "stdout",
     "output_type": "stream",
     "text": [
      "first1\n",
      "secnd2\n",
      "12\n"
     ]
    }
   ],
   "source": [
    "a = input(\"first\")\n",
    "b = input(\"secnd\")\n",
    "print(a + b)"
   ]
  },
  {
   "cell_type": "code",
   "execution_count": 1,
   "id": "54646910",
   "metadata": {},
   "outputs": [
    {
     "data": {
      "text/plain": [
       "8.0"
      ]
     },
     "execution_count": 1,
     "metadata": {},
     "output_type": "execute_result"
    }
   ],
   "source": [
    "import math\n",
    "math.pow(2,3)"
   ]
  },
  {
   "cell_type": "code",
   "execution_count": 2,
   "id": "2764b960",
   "metadata": {},
   "outputs": [
    {
     "data": {
      "text/plain": [
       "54"
      ]
     },
     "execution_count": 2,
     "metadata": {},
     "output_type": "execute_result"
    }
   ],
   "source": [
    "import random\n",
    "random.randint(0,100)"
   ]
  },
  {
   "cell_type": "code",
   "execution_count": 3,
   "id": "d1e5da96",
   "metadata": {},
   "outputs": [
    {
     "data": {
      "text/plain": [
       "33"
      ]
     },
     "execution_count": 3,
     "metadata": {},
     "output_type": "execute_result"
    }
   ],
   "source": [
    "import statistics\n",
    "nums = [1,5,33,12,46,33,2]\n",
    "statistics.mean(nums)\n",
    "statistics.median(nums)\n",
    "statistics.mode(nums)"
   ]
  },
  {
   "cell_type": "code",
   "execution_count": 4,
   "id": "74f8d238",
   "metadata": {},
   "outputs": [
    {
     "data": {
      "text/plain": [
       "12"
      ]
     },
     "execution_count": 4,
     "metadata": {},
     "output_type": "execute_result"
    }
   ],
   "source": [
    "statistics.median(nums)"
   ]
  },
  {
   "cell_type": "code",
   "execution_count": 5,
   "id": "0c69746f",
   "metadata": {},
   "outputs": [
    {
     "data": {
      "text/plain": [
       "18.857142857142858"
      ]
     },
     "execution_count": 5,
     "metadata": {},
     "output_type": "execute_result"
    }
   ],
   "source": [
    "statistics.mean(nums)"
   ]
  },
  {
   "cell_type": "code",
   "execution_count": 6,
   "id": "7c192283",
   "metadata": {},
   "outputs": [
    {
     "ename": "SyntaxError",
     "evalue": "invalid syntax (Temp/ipykernel_15576/4161907399.py, line 1)",
     "output_type": "error",
     "traceback": [
      "\u001b[1;36m  File \u001b[1;32m\"C:\\Users\\YUUJI_~1\\AppData\\Local\\Temp/ipykernel_15576/4161907399.py\"\u001b[1;36m, line \u001b[1;32m1\u001b[0m\n\u001b[1;33m    inport keyword\u001b[0m\n\u001b[1;37m                 ^\u001b[0m\n\u001b[1;31mSyntaxError\u001b[0m\u001b[1;31m:\u001b[0m invalid syntax\n"
     ]
    }
   ],
   "source": [
    "inport keyword\n",
    "keyword.iskeyword(\"for\")"
   ]
  },
  {
   "cell_type": "code",
   "execution_count": 7,
   "id": "07a853cb",
   "metadata": {},
   "outputs": [
    {
     "data": {
      "text/plain": [
       "True"
      ]
     },
     "execution_count": 7,
     "metadata": {},
     "output_type": "execute_result"
    }
   ],
   "source": [
    "import keyword\n",
    "keyword.iskeyword(\"for\")"
   ]
  },
  {
   "cell_type": "code",
   "execution_count": 8,
   "id": "0f5f0cec",
   "metadata": {},
   "outputs": [
    {
     "data": {
      "text/plain": [
       "False"
      ]
     },
     "execution_count": 8,
     "metadata": {},
     "output_type": "execute_result"
    }
   ],
   "source": [
    "keyword.iskeyword(\"football\")"
   ]
  },
  {
   "cell_type": "code",
   "execution_count": 9,
   "id": "8f450e8a",
   "metadata": {},
   "outputs": [
    {
     "name": "stdout",
     "output_type": "stream",
     "text": [
      "Hello\n"
     ]
    }
   ],
   "source": [
    "import hello\n",
    "hello.print_hell()"
   ]
  },
  {
   "cell_type": "code",
   "execution_count": 10,
   "id": "edfd02f3",
   "metadata": {},
   "outputs": [
    {
     "data": {
      "text/plain": [
       "1"
      ]
     },
     "execution_count": 10,
     "metadata": {},
     "output_type": "execute_result"
    }
   ],
   "source": [
    "import power3\n",
    "power3.power3(2)"
   ]
  },
  {
   "cell_type": "code",
   "execution_count": 11,
   "id": "ed47c479",
   "metadata": {},
   "outputs": [
    {
     "data": {
      "text/plain": [
       "1"
      ]
     },
     "execution_count": 11,
     "metadata": {},
     "output_type": "execute_result"
    }
   ],
   "source": [
    "import power3\n",
    "power3.power3(2)"
   ]
  },
  {
   "cell_type": "code",
   "execution_count": 12,
   "id": "275b97f8",
   "metadata": {},
   "outputs": [
    {
     "name": "stdout",
     "output_type": "stream",
     "text": [
      "0\n"
     ]
    }
   ],
   "source": [
    "print(power3.power3(3))"
   ]
  },
  {
   "cell_type": "code",
   "execution_count": 13,
   "id": "57e7d4e5",
   "metadata": {},
   "outputs": [
    {
     "data": {
      "text/plain": [
       "1"
      ]
     },
     "execution_count": 13,
     "metadata": {},
     "output_type": "execute_result"
    }
   ],
   "source": [
    "import power3\n",
    "power3.power3(2)"
   ]
  },
  {
   "cell_type": "code",
   "execution_count": 14,
   "id": "4c23751d",
   "metadata": {},
   "outputs": [
    {
     "data": {
      "text/plain": [
       "<module 'power3' from 'E:\\\\Drive_D\\\\Git\\\\virtualhome2kg\\\\power3.py'>"
      ]
     },
     "execution_count": 14,
     "metadata": {},
     "output_type": "execute_result"
    }
   ],
   "source": [
    "power3"
   ]
  },
  {
   "cell_type": "code",
   "execution_count": 15,
   "id": "cdf94f02",
   "metadata": {},
   "outputs": [
    {
     "data": {
      "text/plain": [
       "1"
      ]
     },
     "execution_count": 15,
     "metadata": {},
     "output_type": "execute_result"
    }
   ],
   "source": [
    "import power3\n",
    "power3.power3(2)"
   ]
  },
  {
   "cell_type": "code",
   "execution_count": 16,
   "id": "ce487f5a",
   "metadata": {},
   "outputs": [
    {
     "data": {
      "text/plain": [
       "1"
      ]
     },
     "execution_count": 16,
     "metadata": {},
     "output_type": "execute_result"
    }
   ],
   "source": [
    "import power3\n",
    "power3.power3(2)"
   ]
  },
  {
   "cell_type": "code",
   "execution_count": 17,
   "id": "0fbef970",
   "metadata": {},
   "outputs": [
    {
     "ename": "AttributeError",
     "evalue": "module 'power3' has no attribute 'power'",
     "output_type": "error",
     "traceback": [
      "\u001b[1;31m---------------------------------------------------------------------------\u001b[0m",
      "\u001b[1;31mAttributeError\u001b[0m                            Traceback (most recent call last)",
      "\u001b[1;32mC:\\Users\\YUUJI_~1\\AppData\\Local\\Temp/ipykernel_15576/156678375.py\u001b[0m in \u001b[0;36m<module>\u001b[1;34m\u001b[0m\n\u001b[0;32m      1\u001b[0m \u001b[1;32mimport\u001b[0m \u001b[0mpower3\u001b[0m\u001b[1;33m\u001b[0m\u001b[1;33m\u001b[0m\u001b[0m\n\u001b[1;32m----> 2\u001b[1;33m \u001b[0mpower3\u001b[0m\u001b[1;33m.\u001b[0m\u001b[0mpower\u001b[0m\u001b[1;33m(\u001b[0m\u001b[1;36m2\u001b[0m\u001b[1;33m)\u001b[0m\u001b[1;33m\u001b[0m\u001b[1;33m\u001b[0m\u001b[0m\n\u001b[0m",
      "\u001b[1;31mAttributeError\u001b[0m: module 'power3' has no attribute 'power'"
     ]
    }
   ],
   "source": [
    "import power3\n",
    "power3.power(2)"
   ]
  },
  {
   "cell_type": "code",
   "execution_count": 18,
   "id": "7320f339",
   "metadata": {},
   "outputs": [
    {
     "name": "stdout",
     "output_type": "stream",
     "text": [
      "8\n"
     ]
    },
    {
     "data": {
      "text/plain": [
       "8"
      ]
     },
     "execution_count": 18,
     "metadata": {},
     "output_type": "execute_result"
    }
   ],
   "source": [
    "import power31\n",
    "power31.power(2)"
   ]
  },
  {
   "cell_type": "code",
   "execution_count": 19,
   "id": "6c05e0da",
   "metadata": {},
   "outputs": [
    {
     "data": {
      "text/plain": [
       "<function TextIOWrapper.close()>"
      ]
     },
     "execution_count": 19,
     "metadata": {},
     "output_type": "execute_result"
    }
   ],
   "source": [
    "st = open(\"test.txt\", \"w\")\n",
    "st.write(\"Hi form Python !\")\n",
    "st.close\n"
   ]
  },
  {
   "cell_type": "code",
   "execution_count": 20,
   "id": "ccb2771d",
   "metadata": {},
   "outputs": [],
   "source": [
    "st.close()"
   ]
  },
  {
   "cell_type": "code",
   "execution_count": 21,
   "id": "d7bc8712",
   "metadata": {},
   "outputs": [],
   "source": [
    "with open(\"st.txt\", \"w\") as f:\n",
    "    f.write(\"Hi form Python\")\n"
   ]
  },
  {
   "cell_type": "code",
   "execution_count": 22,
   "id": "582573e7",
   "metadata": {},
   "outputs": [
    {
     "name": "stdout",
     "output_type": "stream",
     "text": [
      "Hi form Python\n"
     ]
    }
   ],
   "source": [
    "with open(\"st.txt\", \"r\") as f:\n",
    "    print(f.read())"
   ]
  },
  {
   "cell_type": "code",
   "execution_count": null,
   "id": "c6a1880b",
   "metadata": {},
   "outputs": [
    {
     "name": "stdout",
     "output_type": "stream",
     "text": [
      "['c', 'a', 't']\n",
      "['_', '_', '_']\n",
      "Welcome to HangMan\n",
      "\n",
      "\n",
      "Image a chary\n",
      "_ _ _\n",
      "\n",
      "__________          \n",
      "\n",
      "\n",
      "Image a charc\n",
      "['$', 'a', 't']\n",
      "c _ _\n",
      "\n",
      "__________          \n",
      "\n",
      "\n"
     ]
    }
   ],
   "source": [
    "def hangman(word):\n",
    "    wrong = 0\n",
    "    stages = [\"\", \n",
    "            \"__________          \",\n",
    "            \"|                   \",\n",
    "            \"|         |         \",\n",
    "            \"|         O         \",\n",
    "            \"|        /|`        \",\n",
    "            \"|        / `        \",\n",
    "            \"|                   \"\n",
    "            ]\n",
    "    rletters = list(word)\n",
    "    print(rletters)\n",
    "    board = [\"_\"] * len(word)\n",
    "    print(board)\n",
    "    win = False\n",
    "    print(\"Welcome to HangMan\")\n",
    "    while wrong < len(stages)-1:\n",
    "        print(\"\\n\")\n",
    "        msg = \"Image a char\"\n",
    "        char = input(msg)\n",
    "        if char in rletters:\n",
    "            cind = rletters.index(char)\n",
    "            board[cind] = char\n",
    "            rletters[cind] = '$'\n",
    "            print(rletters)\n",
    "        else:\n",
    "            wrong +=1\n",
    "        print(\" \".join(board))\n",
    "        e = wrong + 1\n",
    "        print(\"\\n\".join(stages[0:e]))\n",
    "        if \"_\" not in board:\n",
    "            print(\"You win !\")\n",
    "            print(\" \".join(board))\n",
    "            win = True\n",
    "            break\n",
    "    if not win:\n",
    "        print(\"\\n\".join(stages[0:wrong+1]))\n",
    "        print(\"you lose! Answer is {}.\".format(word))\n",
    "        \n",
    "hangman(\"cat\")"
   ]
  },
  {
   "cell_type": "code",
   "execution_count": 2,
   "id": "6e33a8e5",
   "metadata": {},
   "outputs": [
    {
     "name": "stdout",
     "output_type": "stream",
     "text": [
      "Created\n",
      "5\n",
      "dark orange\n"
     ]
    }
   ],
   "source": [
    "class Orange:\n",
    "    def __init__(self, w, c):\n",
    "        self.weight = w\n",
    "        self.color = c\n",
    "        print(\"Created\")\n",
    "\n",
    "or1 = Orange(5, \"dark orange\")\n",
    "print(or1.weight)\n",
    "print(or1.color)"
   ]
  },
  {
   "cell_type": "code",
   "execution_count": 3,
   "id": "c3279e6c",
   "metadata": {},
   "outputs": [
    {
     "name": "stdout",
     "output_type": "stream",
     "text": [
      "Created\n",
      "<__main__.Apple object at 0x000002A9C056CAC8>\n"
     ]
    }
   ],
   "source": [
    "class Apple:\n",
    "    def __init__(self, w, c, s, f):\n",
    "        self.weight = w\n",
    "        self.color = c\n",
    "        self.sweet = s\n",
    "        self.flavor = f\n",
    "        print(\"Created\")\n",
    "        \n",
    "apl1 = Apple(10, \"deep erd\", \"yes\", \"good\")\n",
    "print(apl1)"
   ]
  },
  {
   "cell_type": "code",
   "execution_count": 6,
   "id": "a72d516b",
   "metadata": {},
   "outputs": [
    {
     "name": "stdout",
     "output_type": "stream",
     "text": [
      "78.53981633974483\n"
     ]
    }
   ],
   "source": [
    "import math\n",
    "\n",
    "class Circle:\n",
    "    def __init__(self, x, y, r):\n",
    "        self.center_x = x\n",
    "        self.center_y = y\n",
    "        self.radius = r\n",
    "        \n",
    "    def area(self):\n",
    "        return self.radius ** 2 * math.pi\n",
    "    \n",
    "crcl1 = Circle(0,0,5)\n",
    "print(crcl1.area())"
   ]
  },
  {
   "cell_type": "code",
   "execution_count": 7,
   "id": "81c926eb",
   "metadata": {},
   "outputs": [
    {
     "name": "stdout",
     "output_type": "stream",
     "text": [
      "24\n"
     ]
    }
   ],
   "source": [
    "class Hexagon:\n",
    "    def __init__(self, r):\n",
    "        self.radius = r\n",
    "        \n",
    "    def calcurate_perimeter(self):\n",
    "        return self.radius * 6\n",
    "\n",
    "hex1 = Hexagon(4)\n",
    "print(hex1.calcurate_perimeter())"
   ]
  },
  {
   "cell_type": "code",
   "execution_count": 11,
   "id": "77873e3e",
   "metadata": {},
   "outputs": [
    {
     "name": "stdout",
     "output_type": "stream",
     "text": [
      "500\n"
     ]
    }
   ],
   "source": [
    "class Shape:\n",
    "    def __init__(self, w, l):\n",
    "        self.width = w\n",
    "        self.len = l\n",
    "        \n",
    "    def print_size(self):\n",
    "        print(\"{} by {}\".format(self.width, self.len))\n",
    "        \n",
    "class Square(Shape):\n",
    "    def area(self):\n",
    "        return self.width * self.len\n",
    "\n",
    "        \n",
    "my_shape = Square(20,25)\n",
    "print(my_shape.area())\n"
   ]
  },
  {
   "cell_type": "code",
   "execution_count": 15,
   "id": "ecd85622",
   "metadata": {},
   "outputs": [
    {
     "name": "stdout",
     "output_type": "stream",
     "text": [
      "Mick Jagger\n",
      "Mick Jagger\n"
     ]
    }
   ],
   "source": [
    "class Dog:\n",
    "    def __init__(self, name, breed, owner):\n",
    "        self.name = name\n",
    "        self.breed = breed\n",
    "        self.owner = owner\n",
    "        \n",
    "class Person:\n",
    "    def __init__(self, name):\n",
    "        self.name = name\n",
    "        \n",
    "    def print_name(self):\n",
    "        return self.name\n",
    "        \n",
    "mick = Person(\"Mick Jagger\")\n",
    "stan = Dog(\"Stanly\", \"Bulldog\", mick)\n",
    "print(stan.owner.name)\n",
    "print(stan.owner.print_name())"
   ]
  },
  {
   "cell_type": "code",
   "execution_count": 18,
   "id": "8189ee55",
   "metadata": {},
   "outputs": [
    {
     "name": "stdout",
     "output_type": "stream",
     "text": [
      "14\n",
      "20\n"
     ]
    }
   ],
   "source": [
    "class Rectangle:\n",
    "    def __init__(self, w, h):\n",
    "        self.width = w\n",
    "        self.height = h\n",
    "        \n",
    "    def calcurate_perimeter(self):\n",
    "        return 2 * self.width + 2 * self.height\n",
    "    \n",
    "class Square:\n",
    "    def __init__(self, l):\n",
    "        self.length = l\n",
    "        \n",
    "    def calcurate_perimeter(self):\n",
    "        return 4 * self.length\n",
    "    \n",
    "    def change_size(self, l):\n",
    "        self.length = l\n",
    "    \n",
    "rect1 = Rectangle(4,3)\n",
    "sqr1 = Square(5)\n",
    "\n",
    "print(rect1.calcurate_perimeter())\n",
    "print(sqr1.calcurate_perimeter())"
   ]
  },
  {
   "cell_type": "code",
   "execution_count": 23,
   "id": "a14015ed",
   "metadata": {},
   "outputs": [
    {
     "name": "stdout",
     "output_type": "stream",
     "text": [
      "14\n",
      "20\n",
      "I am a shape\n",
      "None\n"
     ]
    }
   ],
   "source": [
    "class Shape:\n",
    "    def what_am_i(self):   \n",
    "        print(\"I am a shape\")\n",
    "        \n",
    "class Rectangle(Shape):\n",
    "    def __init__(self, w, h):\n",
    "        self.width = w\n",
    "        self.height = h\n",
    "        \n",
    "    def calcurate_perimeter(self):\n",
    "        return 2 * self.width + 2 * self.height\n",
    "    \n",
    "class Square(Shape):\n",
    "    def __init__(self, l):\n",
    "        self.length = l\n",
    "        \n",
    "    def calcurate_perimeter(self):\n",
    "        return 4 * self.length\n",
    "    \n",
    "    def change_size(self, l):\n",
    "        self.length = l\n",
    "        \n",
    "rect1 = Rectangle(4,3)\n",
    "sqr1 = Square(5)\n",
    "\n",
    "print(rect1.calcurate_perimeter())\n",
    "print(sqr1.calcurate_perimeter())\n",
    "\n",
    "print(rect1.what_am_i())\n"
   ]
  },
  {
   "cell_type": "code",
   "execution_count": 27,
   "id": "6849e91a",
   "metadata": {},
   "outputs": [
    {
     "name": "stdout",
     "output_type": "stream",
     "text": [
      "Yuji\n",
      "Yuji\n"
     ]
    }
   ],
   "source": [
    "class Horse:\n",
    "    def __init__(self, r):\n",
    "        self.rider = r\n",
    "    def print_rider_name(self):\n",
    "        print(self.rider.name)\n",
    "        \n",
    "class Rider:\n",
    "    def __init__(self, name):\n",
    "        self.name = name\n",
    "    def print_name(self):\n",
    "        print(self.name)\n",
    "        \n",
    "rider = Rider(\"Yuji\")\n",
    "horse = Horse(rider)\n",
    "\n",
    "horse.print_rider_name()\n",
    "horse.rider.print_name()"
   ]
  },
  {
   "cell_type": "code",
   "execution_count": 28,
   "id": "448d7550",
   "metadata": {},
   "outputs": [
    {
     "name": "stdout",
     "output_type": "stream",
     "text": [
      "<class '__main__.Square'>\n"
     ]
    }
   ],
   "source": [
    "class Square:\n",
    "    pass\n",
    "\n",
    "print(Square)"
   ]
  },
  {
   "cell_type": "code",
   "execution_count": 34,
   "id": "256c79be",
   "metadata": {},
   "outputs": [
    {
     "name": "stdout",
     "output_type": "stream",
     "text": [
      "[(10, 24), (20, 40), (100, 200)]\n",
      "[(10, 24), (20, 40), (100, 200)]\n",
      "[(10, 24), (20, 40), (100, 200)]\n",
      "[(10, 24), (20, 40), (100, 200)]\n",
      "(10, 24)\n",
      "(20, 40)\n",
      "(100, 200)\n"
     ]
    }
   ],
   "source": [
    "class Rectangle:\n",
    "    recs = []\n",
    "    def __init__(self, w, l):\n",
    "        self.width = w\n",
    "        self.length = l\n",
    "        self.recs.append((self.width, self.length))\n",
    "    def print_size(self):\n",
    "        print(\"{} bu {}\".format(self.width, self.length))\n",
    "        \n",
    "r1 = Rectangle(10, 24)\n",
    "r2 = Rectangle(20, 40)\n",
    "r3 = Rectangle(100, 200)\n",
    "\n",
    "print(Rectangle.recs)\n",
    "print(r1.recs)\n",
    "print(r2.recs)\n",
    "print(r3.recs)\n",
    "\n",
    "for recsElement in Rectangle.recs:\n",
    "    print(recsElement)\n",
    "\n",
    "    "
   ]
  },
  {
   "cell_type": "code",
   "execution_count": 36,
   "id": "c95b82cb",
   "metadata": {},
   "outputs": [
    {
     "name": "stdout",
     "output_type": "stream",
     "text": [
      "Dilbert\n"
     ]
    }
   ],
   "source": [
    "class Lion:\n",
    "    def __init__(self, name):\n",
    "        self.name = name\n",
    "        \n",
    "    def __repr__(self):\n",
    "        return self.name\n",
    "    \n",
    "lion = Lion(\"Dilbert\")\n",
    "print(lion)"
   ]
  },
  {
   "cell_type": "code",
   "execution_count": 41,
   "id": "a1ed3aae",
   "metadata": {},
   "outputs": [
    {
     "name": "stdout",
     "output_type": "stream",
     "text": [
      "10\n",
      "30\n"
     ]
    }
   ],
   "source": [
    "class AlwaysPositive:\n",
    "    def __init__(self, num):\n",
    "        self.num = num\n",
    "        \n",
    "    def __add__(self, other):\n",
    "        return abs(self.num + other.num)\n",
    "    \n",
    "    def __sub__(self, other):\n",
    "        return abs(self.num - other.num)\n",
    "    \n",
    "x = AlwaysPositive(-20)\n",
    "y = AlwaysPositive(10)\n",
    "print(x + y)\n",
    "print(x - y)"
   ]
  },
  {
   "cell_type": "markdown",
   "id": "de494f59",
   "metadata": {},
   "source": [
    "classの演算子　比較、算術左側（基本）、算術右側、算術代入、単項"
   ]
  },
  {
   "cell_type": "code",
   "execution_count": 42,
   "id": "cd4c902b",
   "metadata": {},
   "outputs": [
    {
     "name": "stdout",
     "output_type": "stream",
     "text": [
      "True\n",
      "False\n"
     ]
    }
   ],
   "source": [
    "class Person:\n",
    "    def __init__(self):\n",
    "        self.name = 'Bob'\n",
    "        \n",
    "bob = Person()\n",
    "same_bob = bob\n",
    "\n",
    "print(bob is same_bob)\n",
    "\n",
    "another_bob = Person()\n",
    "print(bob is another_bob)\n"
   ]
  },
  {
   "cell_type": "code",
   "execution_count": 43,
   "id": "b713c751",
   "metadata": {},
   "outputs": [
    {
     "name": "stdout",
     "output_type": "stream",
     "text": [
      "x is not None\n",
      "x is  None\n"
     ]
    }
   ],
   "source": [
    "x = 10\n",
    "if x is None:\n",
    "    print(\"x is None\")\n",
    "else:\n",
    "    print(\"x is not None\")\n",
    "    \n",
    "x = None\n",
    "if x is None:\n",
    "    print(\"x is  None\")\n",
    "else:\n",
    "    print(\"x is not None\")"
   ]
  },
  {
   "cell_type": "code",
   "execution_count": 49,
   "id": "fcabc34e",
   "metadata": {},
   "outputs": [
    {
     "name": "stdout",
     "output_type": "stream",
     "text": [
      "3 by 3 by 3 by 3\n",
      "4 by 4 by 4 by 4\n",
      "5 by 5 by 5 by 5\n",
      "[3, 4, 5]\n"
     ]
    }
   ],
   "source": [
    "class Square:\n",
    "    sqrs = []\n",
    "    def __init__(self, l):\n",
    "        self.length = l\n",
    "        self.sqrs.append(self.length)\n",
    "        print(\"{} by {} by {} by {}\".format(self.length, self.length, self.length, self.length))\n",
    "\n",
    "s1 = Square(3)\n",
    "s2 = Square(4)\n",
    "s3 = Square(5)\n",
    "\n",
    "print(Square.sqrs)"
   ]
  },
  {
   "cell_type": "code",
   "execution_count": 53,
   "id": "c99c4630",
   "metadata": {},
   "outputs": [
    {
     "data": {
      "text/plain": [
       "True"
      ]
     },
     "execution_count": 53,
     "metadata": {},
     "output_type": "execute_result"
    }
   ],
   "source": [
    "def func(a, b):\n",
    "    if a is b:\n",
    "        return True\n",
    "    else:\n",
    "        return False\n",
    "    \n",
    "func(1, 1)"
   ]
  },
  {
   "cell_type": "code",
   "execution_count": 66,
   "id": "5a582d77",
   "metadata": {},
   "outputs": [
    {
     "name": "stdout",
     "output_type": "stream",
     "text": [
      "Name of Player 1bob\n",
      "Name of Player 2yuji\n",
      "Start War !!\n",
      "q key for Quit game, others start play2\n",
      "bob is draw Queen of spades, yuji is draw 2 of diamonds\n",
      "bob wins this round\n",
      "q key for Quit game, others start playk\n",
      "bob is draw 7 of hearts, yuji is draw King of clubs\n",
      "yuji wins this round\n",
      "q key for Quit game, others start play3\n",
      "bob is draw Ace of clubs, yuji is draw 3 of diamonds\n",
      "bob wins this round\n",
      "q key for Quit game, others start play3\n",
      "bob is draw 3 of spades, yuji is draw 3 of clubs\n",
      "yuji wins this round\n",
      "q key for Quit game, others start play3\n",
      "bob is draw Jack of clubs, yuji is draw 10 of spades\n",
      "bob wins this round\n",
      "q key for Quit game, others start play3\n",
      "bob is draw 5 of diamonds, yuji is draw 7 of diamonds\n",
      "yuji wins this round\n",
      "q key for Quit game, others start play3\n",
      "bob is draw 9 of diamonds, yuji is draw 9 of clubs\n",
      "yuji wins this round\n",
      "q key for Quit game, others start play33\n",
      "bob is draw King of spades, yuji is draw Jack of diamonds\n",
      "bob wins this round\n",
      "q key for Quit game, others start play\n",
      "bob is draw Jack of hearts, yuji is draw 5 of clubs\n",
      "bob wins this round\n",
      "q key for Quit game, others start play3\n",
      "bob is draw 2 of hearts, yuji is draw 9 of hearts\n",
      "yuji wins this round\n",
      "q key for Quit game, others start play3\n",
      "bob is draw 7 of spades, yuji is draw 2 of clubs\n",
      "bob wins this round\n",
      "q key for Quit game, others start play4\n",
      "bob is draw 8 of spades, yuji is draw 7 of clubs\n",
      "bob wins this round\n",
      "q key for Quit game, others start play5\n",
      "bob is draw King of hearts, yuji is draw 10 of hearts\n",
      "bob wins this round\n",
      "q key for Quit game, others start play2\n",
      "bob is draw Queen of clubs, yuji is draw 8 of diamonds\n",
      "bob wins this round\n",
      "q key for Quit game, others start play4\n",
      "bob is draw Ace of hearts, yuji is draw 6 of hearts\n",
      "bob wins this round\n",
      "q key for Quit game, others start play5\n",
      "bob is draw 8 of hearts, yuji is draw Queen of diamonds\n",
      "yuji wins this round\n",
      "q key for Quit game, others start play\n",
      "bob is draw Ace of spades, yuji is draw 2 of spades\n",
      "bob wins this round\n",
      "q key for Quit game, others start play\n",
      "bob is draw 5 of hearts, yuji is draw 4 of spades\n",
      "bob wins this round\n",
      "q key for Quit game, others start play\n",
      "bob is draw 10 of diamonds, yuji is draw Jack of spades\n",
      "yuji wins this round\n",
      "q key for Quit game, others start play\n",
      "bob is draw Ace of diamonds, yuji is draw 6 of clubs\n",
      "bob wins this round\n",
      "q key for Quit game, others start play\n",
      "bob is draw 9 of spades, yuji is draw 5 of spades\n",
      "bob wins this round\n",
      "q key for Quit game, others start play\n",
      "bob is draw 4 of hearts, yuji is draw 4 of diamonds\n",
      "yuji wins this round\n",
      "q key for Quit game, others start play\n",
      "bob is draw King of diamonds, yuji is draw 6 of diamonds\n",
      "bob wins this round\n",
      "q key for Quit game, others start play\n",
      "bob is draw 10 of clubs, yuji is draw 4 of clubs\n",
      "bob wins this round\n",
      "q key for Quit game, others start play\n",
      "bob is draw Queen of hearts, yuji is draw 8 of clubs\n",
      "bob wins this round\n",
      "q key for Quit game, others start play\n",
      "bob is draw 3 of hearts, yuji is draw 6 of spades\n",
      "yuji wins this round\n",
      "Game over, bob is Win!!\n"
     ]
    }
   ],
   "source": [
    "from random import shuffle\n",
    "\n",
    "class Card:\n",
    "    suits = [\"spades\", \"hearts\", \"diamonds\", \"clubs\"]\n",
    "    values = [None, None, \"2\", \"3\", \"4\", \"5\", \"6\", \"7\", \"8\", \"9\", \"10\", \"Jack\", \"Queen\", \"King\", \"Ace\"]\n",
    "    \n",
    "    def __init__(self, v, s):\n",
    "        \"\"\" suits and values are number\"\"\"\n",
    "        self.value = v\n",
    "        self.suit = s\n",
    "        \n",
    "    def __lt__(self, c2):\n",
    "        if self.value < c2.value:\n",
    "            return True\n",
    "        if self.valu == c2.value:\n",
    "            if self.suit < c2.suit:\n",
    "                return True\n",
    "            else:\n",
    "                return False\n",
    "        return False\n",
    "    \n",
    "    def __gt__(self, c2):\n",
    "        if self.value > c2.value:\n",
    "            return True\n",
    "        if self.value== c2.value:\n",
    "            if self.suit > c2.suit:\n",
    "                return True\n",
    "            else:\n",
    "                return False\n",
    "        return False\n",
    "    \n",
    "    def __repr__(self):\n",
    "        v = self.values[self.value] + \" of \"  + self.suits[self.suit]\n",
    "        return v\n",
    "    \n",
    "#card = Card(3,2)\n",
    "#print(card)\n",
    "\n",
    "class Deck:\n",
    "    def __init__(self):\n",
    "        self.cards = []\n",
    "        for i in range(2,15):\n",
    "            for j in range(4):\n",
    "                self.cards.append(Card(i,j))\n",
    "        shuffle(self.cards)\n",
    "        \n",
    "    def rm_card(self):\n",
    "            if len(self.cards) == 0:\n",
    "                return\n",
    "            return self.cards.pop()\n",
    "        \n",
    "#deck = Deck()\n",
    "#for card in deck.cards:\n",
    "   # print(card)\n",
    "\n",
    "class Player:\n",
    "    def __init__(self, name):\n",
    "        self.wins = 0\n",
    "        self.card = None\n",
    "        self.name = name\n",
    "        \n",
    "class Game:\n",
    "    def __init__(self):\n",
    "        name1 = input(\"Name of Player 1\")\n",
    "        name2 = input(\"Name of Player 2\")\n",
    "        self.deck = Deck()\n",
    "        self.plyr1 = Player(name1)\n",
    "        self.plyr2 = Player(name2)\n",
    "        \n",
    "    def wins(self, winner):\n",
    "        wn = \"{} wins this round\"\n",
    "        wn = wn.format(winner)\n",
    "        print(wn)\n",
    "    \n",
    "    def draw(self, p1n, p1c, p2n, p2c):\n",
    "        drw = \"{} is draw {}, {} is draw {}\"\n",
    "        drw = drw.format(p1n, p1c, p2n, p2c)\n",
    "        print(drw)\n",
    "        \n",
    "    def play_game(self):\n",
    "        cards = self.deck.cards\n",
    "        print(\"Start War !!\")\n",
    "        while len(cards) >= 2:\n",
    "            msg = \"q key for Quit game, others start play\"\n",
    "            response = input(msg)\n",
    "            if response == \"q\":\n",
    "                break\n",
    "            p1c = self.deck.rm_card()\n",
    "            p2c = self.deck.rm_card()\n",
    "            p1n = self.plyr1.name\n",
    "            p2n = self.plyr2.name\n",
    "            self.draw(p1n, p1c, p2n, p2c)\n",
    "            if p1c > p2c:\n",
    "                self.plyr1.wins += 1\n",
    "                self.wins(self.plyr1.name)\n",
    "            else:\n",
    "                self.plyr2.wins += 1\n",
    "                self.wins(self.plyr2.name)\n",
    "                \n",
    "        win = self.winner(self.plyr1, self.plyr2)\n",
    "        print(\"Game over, {} is Win!!\".format(win))\n",
    "            \n",
    "    def winner(self, p1, p2):\n",
    "            if p1.wins > p2.wins:\n",
    "                return p1.name\n",
    "            if p1.wins < p2.wins:\n",
    "                return p2.name\n",
    "            return \"draw...!\"\n",
    "        \n",
    "game = Game()\n",
    "game.play_game()"
   ]
  },
  {
   "cell_type": "code",
   "execution_count": null,
   "id": "0c36ad57",
   "metadata": {},
   "outputs": [],
   "source": []
  }
 ],
 "metadata": {
  "kernelspec": {
   "display_name": "Python 3 (ipykernel)",
   "language": "python",
   "name": "python3"
  },
  "language_info": {
   "codemirror_mode": {
    "name": "ipython",
    "version": 3
   },
   "file_extension": ".py",
   "mimetype": "text/x-python",
   "name": "python",
   "nbconvert_exporter": "python",
   "pygments_lexer": "ipython3",
   "version": "3.7.4"
  }
 },
 "nbformat": 4,
 "nbformat_minor": 5
}
